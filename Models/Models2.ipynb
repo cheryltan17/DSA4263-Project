{
 "cells": [
  {
   "cell_type": "code",
   "execution_count": 1,
   "metadata": {},
   "outputs": [],
   "source": [
    "import matplotlib.pyplot as plt\n",
    "import numpy as np\n",
    "import pandas as pd\n",
    "from sklearn.model_selection import train_test_split\n",
    "from sklearn.preprocessing import StandardScaler\n",
    "from sklearn.metrics import classification_report, accuracy_score, confusion_matrix\n",
    "from sklearn.model_selection import GridSearchCV\n",
    "from sklearn.decomposition import PCA\n",
    "import xgboost as xgb\n",
    "from xgboost import XGBClassifier"
   ]
  },
  {
   "cell_type": "code",
   "execution_count": 2,
   "metadata": {},
   "outputs": [],
   "source": [
    "from imblearn.under_sampling import RandomUnderSampler\n",
    "import seaborn as sns\n",
    "from imblearn.over_sampling import RandomOverSampler\n",
    "from imblearn.over_sampling import SMOTE\n",
    "from sklearn.decomposition import PCA\n",
    "from sklearn.linear_model import LogisticRegression\n",
    "from sklearn.ensemble import RandomForestClassifier\n",
    "from sklearn.metrics import accuracy_score, classification_report, roc_curve, confusion_matrix, roc_auc_score, auc"
   ]
  },
  {
   "cell_type": "code",
   "execution_count": 3,
   "metadata": {},
   "outputs": [],
   "source": [
    "df = pd.read_csv('/Users/charminagar/Downloads/df_for_model.csv', encoding='latin-1')"
   ]
  },
  {
   "cell_type": "code",
   "execution_count": 4,
   "metadata": {},
   "outputs": [
    {
     "data": {
      "text/html": [
       "<div>\n",
       "<style scoped>\n",
       "    .dataframe tbody tr th:only-of-type {\n",
       "        vertical-align: middle;\n",
       "    }\n",
       "\n",
       "    .dataframe tbody tr th {\n",
       "        vertical-align: top;\n",
       "    }\n",
       "\n",
       "    .dataframe thead th {\n",
       "        text-align: right;\n",
       "    }\n",
       "</style>\n",
       "<table border=\"1\" class=\"dataframe\">\n",
       "  <thead>\n",
       "    <tr style=\"text-align: right;\">\n",
       "      <th></th>\n",
       "      <th>Comnpany_Logo</th>\n",
       "      <th>Range_of_Salary</th>\n",
       "      <th>Qualification_bachelor's degree</th>\n",
       "      <th>Salary_Specified</th>\n",
       "      <th>Type_of_Employment_unspecified</th>\n",
       "      <th>Qualification_high school</th>\n",
       "      <th>City_Specified</th>\n",
       "      <th>Experience_entry level</th>\n",
       "      <th>Qualification_master's degree</th>\n",
       "      <th>Experience_unspecified</th>\n",
       "      <th>...</th>\n",
       "      <th>Job Title_embed</th>\n",
       "      <th>Profile_embed</th>\n",
       "      <th>Department_embed</th>\n",
       "      <th>Job_Description_embed</th>\n",
       "      <th>Requirements_embed</th>\n",
       "      <th>Job_Benefits_embed</th>\n",
       "      <th>Type_of_Industry_embed</th>\n",
       "      <th>Operations_embed</th>\n",
       "      <th>City_embed</th>\n",
       "      <th>Fraudulent</th>\n",
       "    </tr>\n",
       "  </thead>\n",
       "  <tbody>\n",
       "    <tr>\n",
       "      <th>0</th>\n",
       "      <td>1</td>\n",
       "      <td>0.000064</td>\n",
       "      <td>0</td>\n",
       "      <td>0</td>\n",
       "      <td>1</td>\n",
       "      <td>0</td>\n",
       "      <td>1</td>\n",
       "      <td>0</td>\n",
       "      <td>0</td>\n",
       "      <td>0</td>\n",
       "      <td>...</td>\n",
       "      <td>[-4.58608493e-02  2.12311279e-02  3.97200063e-...</td>\n",
       "      <td>[ 7.57737411e-03 -7.53783286e-02 -9.88812753e-...</td>\n",
       "      <td>[-5.47758937e-02  1.92629527e-02 -2.80399639e-...</td>\n",
       "      <td>[-4.28126380e-02 -4.59875539e-02  3.53232771e-...</td>\n",
       "      <td>[ 5.25006577e-02 -7.03689456e-02  1.71322133e-...</td>\n",
       "      <td>[-4.31027077e-02  6.56370372e-02 -6.75226450e-...</td>\n",
       "      <td>[-4.31027077e-02  6.56370372e-02 -6.75226450e-...</td>\n",
       "      <td>[-5.47758527e-02  1.92629341e-02 -2.80399323e-...</td>\n",
       "      <td>[ 8.63630697e-02 -1.98833738e-02  7.14936703e-...</td>\n",
       "      <td>0</td>\n",
       "    </tr>\n",
       "    <tr>\n",
       "      <th>1</th>\n",
       "      <td>1</td>\n",
       "      <td>0.000064</td>\n",
       "      <td>0</td>\n",
       "      <td>0</td>\n",
       "      <td>1</td>\n",
       "      <td>0</td>\n",
       "      <td>1</td>\n",
       "      <td>0</td>\n",
       "      <td>0</td>\n",
       "      <td>1</td>\n",
       "      <td>...</td>\n",
       "      <td>[-1.17126264e-01  2.77831382e-03 -1.29374452e-...</td>\n",
       "      <td>[-1.03874601e-01 -2.86145303e-02 -1.75224356e-...</td>\n",
       "      <td>[-4.31027077e-02  6.56370372e-02 -6.75226450e-...</td>\n",
       "      <td>[-5.67804910e-02 -5.34146605e-03  4.22535762e-...</td>\n",
       "      <td>[ 5.35701402e-03 -1.40999006e-02 -1.83974057e-...</td>\n",
       "      <td>[-4.31027077e-02  6.56370372e-02 -6.75226450e-...</td>\n",
       "      <td>[-4.31027077e-02  6.56370372e-02 -6.75226450e-...</td>\n",
       "      <td>[-4.31027077e-02  6.56370372e-02 -6.75226450e-...</td>\n",
       "      <td>[-8.61143023e-02  2.20292192e-02  1.35004222e-...</td>\n",
       "      <td>0</td>\n",
       "    </tr>\n",
       "    <tr>\n",
       "      <th>2</th>\n",
       "      <td>1</td>\n",
       "      <td>0.000064</td>\n",
       "      <td>1</td>\n",
       "      <td>0</td>\n",
       "      <td>0</td>\n",
       "      <td>0</td>\n",
       "      <td>1</td>\n",
       "      <td>0</td>\n",
       "      <td>0</td>\n",
       "      <td>0</td>\n",
       "      <td>...</td>\n",
       "      <td>[ 4.59693419e-03  4.81805997e-03  5.61004803e-...</td>\n",
       "      <td>[ 3.36016826e-02  2.67076027e-02  3.24560329e-...</td>\n",
       "      <td>[-5.99851981e-02  5.02520166e-02 -3.38837020e-...</td>\n",
       "      <td>[ 6.79077506e-02 -3.56016830e-02 -3.88150178e-...</td>\n",
       "      <td>[ 5.84511384e-02 -6.93934634e-02  8.84997752e-...</td>\n",
       "      <td>[ 5.48424758e-02 -2.61770543e-02  5.13948454e-...</td>\n",
       "      <td>[-7.63907805e-02  1.44250859e-02  7.63018057e-...</td>\n",
       "      <td>[-5.99852316e-02  5.02519980e-02 -3.38837095e-...</td>\n",
       "      <td>[ 2.98751630e-02  7.29545280e-02  4.19618338e-...</td>\n",
       "      <td>0</td>\n",
       "    </tr>\n",
       "    <tr>\n",
       "      <th>3</th>\n",
       "      <td>1</td>\n",
       "      <td>0.000064</td>\n",
       "      <td>1</td>\n",
       "      <td>0</td>\n",
       "      <td>0</td>\n",
       "      <td>0</td>\n",
       "      <td>1</td>\n",
       "      <td>0</td>\n",
       "      <td>0</td>\n",
       "      <td>0</td>\n",
       "      <td>...</td>\n",
       "      <td>[-7.77300671e-02  4.42555510e-02 -9.83385593e-...</td>\n",
       "      <td>[-6.86832815e-02 -1.00228742e-01 -2.99047511e-...</td>\n",
       "      <td>[-4.31027077e-02  6.56370372e-02 -6.75226450e-...</td>\n",
       "      <td>[-6.13101721e-02 -4.14161161e-02 -1.45597698e-...</td>\n",
       "      <td>[-4.47404943e-02 -6.80395663e-02 -4.66844114e-...</td>\n",
       "      <td>[-9.30000748e-03  1.11222237e-01  2.06504874e-...</td>\n",
       "      <td>[-2.40202416e-02  7.45742396e-02  1.62536111e-...</td>\n",
       "      <td>[-8.91374573e-02  6.87410980e-02  3.76313925e-...</td>\n",
       "      <td>[ 6.75367787e-02 -1.44326175e-02 -5.12554459e-...</td>\n",
       "      <td>0</td>\n",
       "    </tr>\n",
       "    <tr>\n",
       "      <th>4</th>\n",
       "      <td>0</td>\n",
       "      <td>0.000064</td>\n",
       "      <td>0</td>\n",
       "      <td>0</td>\n",
       "      <td>1</td>\n",
       "      <td>0</td>\n",
       "      <td>0</td>\n",
       "      <td>0</td>\n",
       "      <td>0</td>\n",
       "      <td>1</td>\n",
       "      <td>...</td>\n",
       "      <td>[-7.38978684e-02  8.47627893e-02 -7.17384219e-...</td>\n",
       "      <td>[-4.31027263e-02  6.56369701e-02 -6.75225854e-...</td>\n",
       "      <td>[-4.31027077e-02  6.56370372e-02 -6.75226450e-...</td>\n",
       "      <td>[-3.57331708e-02  2.42543034e-02 -1.39074121e-...</td>\n",
       "      <td>[-4.31027077e-02  6.56370372e-02 -6.75226450e-...</td>\n",
       "      <td>[-4.31027077e-02  6.56370372e-02 -6.75226450e-...</td>\n",
       "      <td>[-4.31027077e-02  6.56370372e-02 -6.75226450e-...</td>\n",
       "      <td>[-4.31027077e-02  6.56370372e-02 -6.75226450e-...</td>\n",
       "      <td>[-1.01084542e-02  1.73952547e-04 -6.45254329e-...</td>\n",
       "      <td>0</td>\n",
       "    </tr>\n",
       "  </tbody>\n",
       "</table>\n",
       "<p>5 rows × 25 columns</p>\n",
       "</div>"
      ],
      "text/plain": [
       "   Comnpany_Logo  Range_of_Salary  Qualification_bachelor's degree  \\\n",
       "0              1         0.000064                                0   \n",
       "1              1         0.000064                                0   \n",
       "2              1         0.000064                                1   \n",
       "3              1         0.000064                                1   \n",
       "4              0         0.000064                                0   \n",
       "\n",
       "   Salary_Specified  Type_of_Employment_unspecified  \\\n",
       "0                 0                               1   \n",
       "1                 0                               1   \n",
       "2                 0                               0   \n",
       "3                 0                               0   \n",
       "4                 0                               1   \n",
       "\n",
       "   Qualification_high school  City_Specified  Experience_entry level  \\\n",
       "0                          0               1                       0   \n",
       "1                          0               1                       0   \n",
       "2                          0               1                       0   \n",
       "3                          0               1                       0   \n",
       "4                          0               0                       0   \n",
       "\n",
       "   Qualification_master's degree  Experience_unspecified  ...  \\\n",
       "0                              0                       0  ...   \n",
       "1                              0                       1  ...   \n",
       "2                              0                       0  ...   \n",
       "3                              0                       0  ...   \n",
       "4                              0                       1  ...   \n",
       "\n",
       "                                     Job Title_embed  \\\n",
       "0  [-4.58608493e-02  2.12311279e-02  3.97200063e-...   \n",
       "1  [-1.17126264e-01  2.77831382e-03 -1.29374452e-...   \n",
       "2  [ 4.59693419e-03  4.81805997e-03  5.61004803e-...   \n",
       "3  [-7.77300671e-02  4.42555510e-02 -9.83385593e-...   \n",
       "4  [-7.38978684e-02  8.47627893e-02 -7.17384219e-...   \n",
       "\n",
       "                                       Profile_embed  \\\n",
       "0  [ 7.57737411e-03 -7.53783286e-02 -9.88812753e-...   \n",
       "1  [-1.03874601e-01 -2.86145303e-02 -1.75224356e-...   \n",
       "2  [ 3.36016826e-02  2.67076027e-02  3.24560329e-...   \n",
       "3  [-6.86832815e-02 -1.00228742e-01 -2.99047511e-...   \n",
       "4  [-4.31027263e-02  6.56369701e-02 -6.75225854e-...   \n",
       "\n",
       "                                    Department_embed  \\\n",
       "0  [-5.47758937e-02  1.92629527e-02 -2.80399639e-...   \n",
       "1  [-4.31027077e-02  6.56370372e-02 -6.75226450e-...   \n",
       "2  [-5.99851981e-02  5.02520166e-02 -3.38837020e-...   \n",
       "3  [-4.31027077e-02  6.56370372e-02 -6.75226450e-...   \n",
       "4  [-4.31027077e-02  6.56370372e-02 -6.75226450e-...   \n",
       "\n",
       "                               Job_Description_embed  \\\n",
       "0  [-4.28126380e-02 -4.59875539e-02  3.53232771e-...   \n",
       "1  [-5.67804910e-02 -5.34146605e-03  4.22535762e-...   \n",
       "2  [ 6.79077506e-02 -3.56016830e-02 -3.88150178e-...   \n",
       "3  [-6.13101721e-02 -4.14161161e-02 -1.45597698e-...   \n",
       "4  [-3.57331708e-02  2.42543034e-02 -1.39074121e-...   \n",
       "\n",
       "                                  Requirements_embed  \\\n",
       "0  [ 5.25006577e-02 -7.03689456e-02  1.71322133e-...   \n",
       "1  [ 5.35701402e-03 -1.40999006e-02 -1.83974057e-...   \n",
       "2  [ 5.84511384e-02 -6.93934634e-02  8.84997752e-...   \n",
       "3  [-4.47404943e-02 -6.80395663e-02 -4.66844114e-...   \n",
       "4  [-4.31027077e-02  6.56370372e-02 -6.75226450e-...   \n",
       "\n",
       "                                  Job_Benefits_embed  \\\n",
       "0  [-4.31027077e-02  6.56370372e-02 -6.75226450e-...   \n",
       "1  [-4.31027077e-02  6.56370372e-02 -6.75226450e-...   \n",
       "2  [ 5.48424758e-02 -2.61770543e-02  5.13948454e-...   \n",
       "3  [-9.30000748e-03  1.11222237e-01  2.06504874e-...   \n",
       "4  [-4.31027077e-02  6.56370372e-02 -6.75226450e-...   \n",
       "\n",
       "                              Type_of_Industry_embed  \\\n",
       "0  [-4.31027077e-02  6.56370372e-02 -6.75226450e-...   \n",
       "1  [-4.31027077e-02  6.56370372e-02 -6.75226450e-...   \n",
       "2  [-7.63907805e-02  1.44250859e-02  7.63018057e-...   \n",
       "3  [-2.40202416e-02  7.45742396e-02  1.62536111e-...   \n",
       "4  [-4.31027077e-02  6.56370372e-02 -6.75226450e-...   \n",
       "\n",
       "                                    Operations_embed  \\\n",
       "0  [-5.47758527e-02  1.92629341e-02 -2.80399323e-...   \n",
       "1  [-4.31027077e-02  6.56370372e-02 -6.75226450e-...   \n",
       "2  [-5.99852316e-02  5.02519980e-02 -3.38837095e-...   \n",
       "3  [-8.91374573e-02  6.87410980e-02  3.76313925e-...   \n",
       "4  [-4.31027077e-02  6.56370372e-02 -6.75226450e-...   \n",
       "\n",
       "                                          City_embed Fraudulent  \n",
       "0  [ 8.63630697e-02 -1.98833738e-02  7.14936703e-...          0  \n",
       "1  [-8.61143023e-02  2.20292192e-02  1.35004222e-...          0  \n",
       "2  [ 2.98751630e-02  7.29545280e-02  4.19618338e-...          0  \n",
       "3  [ 6.75367787e-02 -1.44326175e-02 -5.12554459e-...          0  \n",
       "4  [-1.01084542e-02  1.73952547e-04 -6.45254329e-...          0  \n",
       "\n",
       "[5 rows x 25 columns]"
      ]
     },
     "execution_count": 4,
     "metadata": {},
     "output_type": "execute_result"
    }
   ],
   "source": [
    "df.head()"
   ]
  },
  {
   "cell_type": "code",
   "execution_count": 5,
   "metadata": {},
   "outputs": [],
   "source": [
    "df1 = df"
   ]
  },
  {
   "cell_type": "code",
   "execution_count": 6,
   "metadata": {},
   "outputs": [],
   "source": [
    "embedded_cols = [\"Job Title_embed\",\"Profile_embed\",\"Department_embed\",\"Job_Description_embed\",\"Requirements_embed\",\n",
    "                \"Job_Benefits_embed\",\"Type_of_Industry_embed\",\"Operations_embed\",\"City_embed\"]\n",
    "categorical_feats = [\"Qualification_bachelor's degree\", \"Salary_Specified\", \"Type_of_Employment_unspecified\",\n",
    "                     \"Qualification_high school\", \"City_Specified\", \"Experience_entry level\",\"Qualification_master's degree\",\n",
    "                     \"Experience_unspecified\", \"Telecomunication\",\"Qualification_vocational / certification/ professional\",\n",
    "                     \"Experience_midsenior level\", \"Qualification_unspecified\", \"Type_of_Employment_fulltime\"]"
   ]
  },
  {
   "cell_type": "code",
   "execution_count": 7,
   "metadata": {},
   "outputs": [],
   "source": [
    "def convert_to_array(s):\n",
    "    cleaned_str = s.strip('[]').replace('\\n', ' ').replace('  ', ' ').strip()\n",
    "    return np.fromstring(cleaned_str, sep=' ')\n",
    "\n",
    "for col in embedded_cols:\n",
    "    df1[col] = df1[col].apply(convert_to_array)"
   ]
  },
  {
   "cell_type": "code",
   "execution_count": 10,
   "metadata": {},
   "outputs": [],
   "source": [
    "#standardise\n",
    "scaler = StandardScaler()\n",
    "X_text = np.hstack([np.vstack(df1[col]) for col in embedded_cols]) \n",
    "X_cat = df1[categorical_feats].values \n",
    "X_num = df1[['Range_of_Salary']].values"
   ]
  },
  {
   "cell_type": "code",
   "execution_count": 11,
   "metadata": {},
   "outputs": [],
   "source": [
    "\n",
    "X = np.hstack([X_text, X_cat, X_num]) \n",
    "X_std = scaler.fit_transform(X) "
   ]
  },
  {
   "cell_type": "code",
   "execution_count": 12,
   "metadata": {},
   "outputs": [],
   "source": [
    "#PCA\n",
    "pca = PCA()\n",
    "X_pca = pca.fit_transform(X_std)"
   ]
  },
  {
   "cell_type": "code",
   "execution_count": null,
   "metadata": {},
   "outputs": [],
   "source": [
    "# cumulative explained variance ratio for components to keep\n",
    "explained_var_ratio = pca.explained_variance_ratio_\n",
    "cumulative_var_ratio = np.cumsum(explained_var_ratio)\n",
    "plt.plot(range(1, len(cumulative_var_ratio) + 1), cumulative_var_ratio, marker='o')\n",
    "plt.xlabel('Number of Principal Components')\n",
    "plt.ylabel('Cumulative Explained Variance Ratio')\n",
    "plt.title('Explained Variance Ratio vs. Number of Principal Components')\n"
   ]
  },
  {
   "cell_type": "code",
   "execution_count": 14,
   "metadata": {},
   "outputs": [
    {
     "name": "stdout",
     "output_type": "stream",
     "text": [
      "Variance explained by first 1000 components: 0.511\n"
     ]
    }
   ],
   "source": [
    "\n",
    "pca = PCA(n_components=50)\n",
    "X_pca = pca.fit_transform(X_std)\n",
    "\n",
    "explained_variance = pca.explained_variance_ratio_\n",
    "variance_first_1000 = explained_variance.sum()\n",
    "print(f\"Variance explained by first 1000 components: {variance_first_1000:.3f}\")"
   ]
  },
  {
   "cell_type": "code",
   "execution_count": 15,
   "metadata": {},
   "outputs": [
    {
     "name": "stdout",
     "output_type": "stream",
     "text": [
      "Counts of label '1' in training data: 588\n",
      "Counts of label '0' in training data: 7936\n"
     ]
    }
   ],
   "source": [
    "\n",
    "df2 = pd.DataFrame(X_pca) #PCA df\n",
    "\n",
    "y = df1['Fraudulent'] #target\n",
    "\n",
    "X_train, X_test, y_train, y_test = train_test_split(df2, y, test_size=0.2, random_state=4263)\n",
    "\n",
    "print(\"Counts of label '1' in training data: {}\".format(sum(y_train == 1)))\n",
    "print(\"Counts of label '0' in training data: {}\".format(sum(y_train == 0)))"
   ]
  },
  {
   "cell_type": "code",
   "execution_count": 16,
   "metadata": {},
   "outputs": [
    {
     "name": "stdout",
     "output_type": "stream",
     "text": [
      "Resampled class counts:\n",
      "Fraudulent\n",
      "0    7936\n",
      "1    7936\n",
      "Name: count, dtype: int64\n"
     ]
    }
   ],
   "source": [
    "#resampling\n",
    "def resampling_method(method, X_train, y_train):\n",
    "    if method == 'Undersampling':\n",
    "        rus = RandomUnderSampler(random_state=4263)\n",
    "        X_train_balanced, y_train_balanced = rus.fit_resample(X_train, y_train)\n",
    "    elif method == 'Oversampling':\n",
    "        ros = RandomOverSampler(random_state=4263)\n",
    "        X_train_balanced, y_train_balanced = ros.fit_resample(X_train, y_train)\n",
    "    else:\n",
    "        print('Invalid resampling method')\n",
    "    resampled_class_counts = pd.Series(y_train_balanced).value_counts()\n",
    "    print(\"Resampled class counts:\")\n",
    "    print(resampled_class_counts)\n",
    "    return X_train_balanced, y_train_balanced\n",
    "\n",
    "#oversampling to balance\n",
    "X_train_balanced, y_train_balanced = resampling_method('Oversampling', X_train, y_train)"
   ]
  },
  {
   "cell_type": "markdown",
   "metadata": {},
   "source": [
    "XGBoost"
   ]
  },
  {
   "cell_type": "code",
   "execution_count": 17,
   "metadata": {},
   "outputs": [],
   "source": [
    "#XGBoost classifier initial\n",
    "model_xgb = xgb.XGBClassifier(\n",
    "    n_estimators=100, \n",
    "    max_depth=6,           \n",
    "    learning_rate=0.1,     \n",
    "    random_state=4263,    \n",
    "    scale_pos_weight=1,   \n",
    "    eval_metric=\"mlogloss\"\n",
    ")"
   ]
  },
  {
   "cell_type": "code",
   "execution_count": 18,
   "metadata": {},
   "outputs": [
    {
     "name": "stdout",
     "output_type": "stream",
     "text": [
      "Accuracy: 0.9676360225140713\n",
      "              precision    recall  f1-score   support\n",
      "\n",
      "           0       0.98      0.99      0.98      1990\n",
      "           1       0.79      0.70      0.74       142\n",
      "\n",
      "    accuracy                           0.97      2132\n",
      "   macro avg       0.89      0.84      0.86      2132\n",
      "weighted avg       0.97      0.97      0.97      2132\n",
      "\n"
     ]
    },
    {
     "data": {
      "text/plain": [
       "array([[1964,   26],\n",
       "       [  43,   99]])"
      ]
     },
     "execution_count": 18,
     "metadata": {},
     "output_type": "execute_result"
    },
    {
     "data": {
      "image/png": "[encoded data removed]",
      "text/plain": [
       "<Figure size 800x600 with 1 Axes>"
      ]
     },
     "metadata": {},
     "output_type": "display_data"
    }
   ],
   "source": [
    "\n",
    "#train and evaluate\n",
    "model_xgb.fit(X_train_balanced, y_train_balanced)\n",
    "\n",
    "#predictions\n",
    "y_pred_xgb = model_xgb.predict(X_test)\n",
    "\n",
    "def evaluate_model(y_test, y_pred, model_name):\n",
    "    cm = confusion_matrix(y_test, y_pred)\n",
    "    fig, ax = plt.subplots(figsize=(8, 6))\n",
    "    sns.heatmap(cm, annot=True, cmap='Blues', fmt='d', cbar=False, ax=ax)\n",
    "    ax.set_xlabel('Predicted labels')\n",
    "    ax.set_ylabel('True labels')\n",
    "    ax.set_title(f'Confusion Matrix for {model_name}')\n",
    "    print(\"Accuracy:\", accuracy_score(y_test, y_pred))\n",
    "    print(classification_report(y_test, y_pred))\n",
    "    return cm\n",
    "\n",
    "#evaluations \n",
    "evaluate_model(y_test, y_pred_xgb, 'XGBoost')\n"
   ]
  },
  {
   "cell_type": "code",
   "execution_count": 19,
   "metadata": {},
   "outputs": [],
   "source": [
    "def auc_roc(model,model_name,X_test,y_test):\n",
    "    pred_prob = model.predict_proba(X_test)\n",
    "    auc_score = round(roc_auc_score(y_test, pred_prob[:,1]),3)\n",
    "    fpr, tpr, thresh = roc_curve(y_test, pred_prob[:,1], pos_label=1)\n",
    "    plt.plot(fpr, tpr, linestyle='--',color='orange', label ='ROC curve (area = %0.3f)' % auc_score)\n",
    "    plt.title('ROC curve')\n",
    "    plt.xlabel('False Positive Rate')\n",
    "    plt.ylabel('True Positive rate')\n",
    "    plt.legend(loc='best')\n",
    "    plt.show()\n",
    "    \n",
    "    return print(f'AUC score: {auc_score}')\n",
    "    "
   ]
  },
  {
   "cell_type": "code",
   "execution_count": 20,
   "metadata": {},
   "outputs": [
    {
     "data": {
      "image/png": "[encoded data removed]",
      "text/plain": [
       "<Figure size 640x480 with 1 Axes>"
      ]
     },
     "metadata": {},
     "output_type": "display_data"
    },
    {
     "name": "stdout",
     "output_type": "stream",
     "text": [
      "AUC score: 0.972\n"
     ]
    }
   ],
   "source": [
    "\n",
    "auc_roc(model_xgb,'XGBoost',X_test,y_test)"
   ]
  },
  {
   "cell_type": "markdown",
   "metadata": {},
   "source": [
    "Decision tree"
   ]
  },
  {
   "cell_type": "code",
   "execution_count": 21,
   "metadata": {},
   "outputs": [],
   "source": [
    "from sklearn.tree import DecisionTreeClassifier\n",
    "\n",
    "model_dt = DecisionTreeClassifier(random_state=42)\n",
    "model_dt.fit(X_train_balanced, y_train_balanced)\n",
    "y_pred_dt = model_dt.predict(X_test)\n"
   ]
  },
  {
   "cell_type": "code",
   "execution_count": 22,
   "metadata": {},
   "outputs": [
    {
     "name": "stdout",
     "output_type": "stream",
     "text": [
      "Accuracy: 0.9385553470919324\n",
      "              precision    recall  f1-score   support\n",
      "\n",
      "           0       0.96      0.97      0.97      1990\n",
      "           1       0.54      0.50      0.52       142\n",
      "\n",
      "    accuracy                           0.94      2132\n",
      "   macro avg       0.75      0.73      0.74      2132\n",
      "weighted avg       0.94      0.94      0.94      2132\n",
      "\n"
     ]
    },
    {
     "data": {
      "text/plain": [
       "array([[1930,   60],\n",
       "       [  71,   71]])"
      ]
     },
     "execution_count": 22,
     "metadata": {},
     "output_type": "execute_result"
    },
    {
     "data": {
      "image/png": "[encoded data removed]",
      "text/plain": [
       "<Figure size 800x600 with 1 Axes>"
      ]
     },
     "metadata": {},
     "output_type": "display_data"
    }
   ],
   "source": [
    "evaluate_model(y_test, y_pred_dt, 'Decision Tree')\n"
   ]
  },
  {
   "cell_type": "code",
   "execution_count": 23,
   "metadata": {},
   "outputs": [
    {
     "data": {
      "image/png": "[encoded data removed]",
      "text/plain": [
       "<Figure size 640x480 with 1 Axes>"
      ]
     },
     "metadata": {},
     "output_type": "display_data"
    },
    {
     "name": "stdout",
     "output_type": "stream",
     "text": [
      "AUC score: 0.735\n"
     ]
    }
   ],
   "source": [
    "auc_roc(model_dt,'Decision tree',X_test,y_test)"
   ]
  },
  {
   "cell_type": "markdown",
   "metadata": {},
   "source": [
    "Hyperparameter tuning for decision tree"
   ]
  },
  {
   "cell_type": "code",
   "execution_count": 24,
   "metadata": {},
   "outputs": [
    {
     "name": "stdout",
     "output_type": "stream",
     "text": [
      "Best Parameters: {'criterion': 'entropy', 'max_depth': 15, 'min_samples_leaf': 1, 'min_samples_split': 2}\n"
     ]
    }
   ],
   "source": [
    "from sklearn.model_selection import GridSearchCV\n",
    "\n",
    "#Hyperparameter tuning\n",
    "param_grid = {\n",
    "    'max_depth': [3, 5, 10, 15], #avoid overfitting\n",
    "    'min_samples_split': [2, 5, 10], \n",
    "    'min_samples_leaf': [1, 5, 10],   \n",
    "    'criterion': ['gini', 'entropy']\n",
    "}\n",
    "\n",
    "model_dt = DecisionTreeClassifier(random_state=42)\n",
    "grid_search = GridSearchCV(model_dt, param_grid, cv=5, scoring='f1', n_jobs=-1)\n",
    "grid_search.fit(X_train_balanced, y_train_balanced)\n",
    "\n",
    "#best\n",
    "print(\"Best Parameters:\", grid_search.best_params_)\n",
    "\n"
   ]
  },
  {
   "cell_type": "code",
   "execution_count": 25,
   "metadata": {},
   "outputs": [
    {
     "name": "stdout",
     "output_type": "stream",
     "text": [
      "Accuracy: 0.9469981238273921\n",
      "              precision    recall  f1-score   support\n",
      "\n",
      "           0       0.97      0.97      0.97      1990\n",
      "           1       0.60      0.60      0.60       142\n",
      "\n",
      "    accuracy                           0.95      2132\n",
      "   macro avg       0.79      0.79      0.79      2132\n",
      "weighted avg       0.95      0.95      0.95      2132\n",
      "\n"
     ]
    },
    {
     "data": {
      "text/plain": [
       "array([[1934,   56],\n",
       "       [  57,   85]])"
      ]
     },
     "execution_count": 25,
     "metadata": {},
     "output_type": "execute_result"
    },
    {
     "data": {
      "image/png": "[encoded data removed]",
      "text/plain": [
       "<Figure size 800x600 with 1 Axes>"
      ]
     },
     "metadata": {},
     "output_type": "display_data"
    }
   ],
   "source": [
    "best_model_dt = DecisionTreeClassifier(\n",
    "    criterion='entropy',\n",
    "    max_depth=15,\n",
    "    min_samples_leaf=1,\n",
    "    min_samples_split=2,\n",
    "    random_state=42\n",
    ")\n",
    "best_model_dt.fit(X_train_balanced, y_train_balanced)\n",
    "y_pred_dt_best = best_model_dt.predict(X_test)\n",
    "\n",
    "\n",
    "evaluate_model(y_test, y_pred_dt_best, 'Tuned Decision Tree')\n"
   ]
  },
  {
   "cell_type": "code",
   "execution_count": null,
   "metadata": {},
   "outputs": [],
   "source": []
  }
 ],
 "metadata": {
  "kernelspec": {
   "display_name": "base",
   "language": "python",
   "name": "python3"
  },
  "language_info": {
   "codemirror_mode": {
    "name": "ipython",
    "version": 3
   },
   "file_extension": ".py",
   "mimetype": "text/x-python",
   "name": "python",
   "nbconvert_exporter": "python",
   "pygments_lexer": "ipython3",
   "version": "3.11.5"
  }
 },
 "nbformat": 4,
 "nbformat_minor": 2
}
