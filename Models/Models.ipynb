{
 "cells": [
  {
   "cell_type": "code",
   "execution_count": 1,
   "id": "10f383b8",
   "metadata": {},
   "outputs": [],
   "source": [
    "import pandas as pd\n",
    "import numpy as np\n",
    "from sklearn.preprocessing import StandardScaler\n",
    "import matplotlib.pyplot as plt\n",
    "import seaborn as sns\n",
    "from sklearn.model_selection import train_test_split\n",
    "\n",
    "from imblearn.under_sampling import RandomUnderSampler\n",
    "from imblearn.over_sampling import RandomOverSampler\n",
    "from imblearn.over_sampling import SMOTE\n",
    "from sklearn.decomposition import PCA\n",
    "from sklearn.linear_model import LogisticRegression\n",
    "from sklearn.ensemble import RandomForestClassifier\n",
    "from sklearn.metrics import accuracy_score, classification_report, roc_curve, confusion_matrix, roc_auc_score, auc"
   ]
  },
  {
   "cell_type": "code",
   "execution_count": 2,
   "id": "668820e6",
   "metadata": {},
   "outputs": [],
   "source": [
    "df = pd.read_csv('C:/Users/cheryl/Downloads/df_for_model.csv', encoding='latin-1')"
   ]
  },
  {
   "cell_type": "code",
   "execution_count": 3,
   "id": "4f1104af",
   "metadata": {},
   "outputs": [],
   "source": [
    "embedded_cols = [\"Job Title_embed\",\"Profile_embed\",\"Department_embed\",\"Job_Description_embed\",\"Requirements_embed\",\n",
    "                \"Job_Benefits_embed\",\"Type_of_Industry_embed\",\"Operations_embed\",\"City_embed\"]\n",
    "categorical_feats = [\"Qualification_bachelor's degree\", \"Salary_Specified\", \"Type_of_Employment_unspecified\",\n",
    "                     \"Qualification_high school\", \"City_Specified\", \"Experience_entry level\",\"Qualification_master's degree\",\n",
    "                     \"Experience_unspecified\", \"Telecomunication\",\"Qualification_vocational / certification/ professional\",\n",
    "                     \"Experience_midsenior level\", \"Qualification_unspecified\", \"Type_of_Employment_fulltime\"]"
   ]
  },
  {
   "cell_type": "code",
   "execution_count": 4,
   "id": "0d5108e4",
   "metadata": {},
   "outputs": [],
   "source": [
    "def convert_to_array(s):\n",
    "    # Clean the string\n",
    "    cleaned_str = s.strip('[]').replace('\\n', ' ').replace('  ', ' ').strip()\n",
    "    # Convert the cleaned string to a NumPy array\n",
    "    return np.fromstring(cleaned_str, sep=' ')\n",
    "\n",
    "for col in embedded_cols:\n",
    "    df[col] = df[col].apply(convert_to_array)"
   ]
  },
  {
   "cell_type": "code",
   "execution_count": 5,
   "id": "b4370244",
   "metadata": {},
   "outputs": [],
   "source": [
    "scaler = StandardScaler()\n",
    "X_text = np.hstack([np.vstack(df[col]) for col in embedded_cols])\n",
    "X_cat = df[categorical_feats].values\n",
    "X_num = df[['Range_of_Salary']]\n",
    "X = np.hstack([X_text, X_cat, X_num])\n",
    "\n",
    "X_std = scaler.fit_transform(X)\n",
    "\n",
    "pca = PCA()\n",
    "X_pca = pca.fit_transform(X_std)\n",
    "\n",
    "# Plot Explained Variance Ratio\n",
    "explained_var_ratio = pca.explained_variance_ratio_\n",
    "cumulative_var_ratio = np.cumsum(explained_var_ratio)"
   ]
  },
  {
   "cell_type": "code",
   "execution_count": null,
   "id": "278789e4",
   "metadata": {},
   "outputs": [],
   "source": [
    "plt.plot(range(1, len(cumulative_var_ratio) + 1), cumulative_var_ratio, marker='o')\n",
    "plt.xlabel('Number of Principal Components')\n",
    "plt.ylabel('Cumulative Explained Variance Ratio')\n",
    "plt.title('Explained Variance Ratio vs. Number of Principal Components')\n",
    "plt.show()"
   ]
  },
  {
   "cell_type": "code",
   "execution_count": 6,
   "id": "6a4e80f3",
   "metadata": {},
   "outputs": [
    {
     "name": "stdout",
     "output_type": "stream",
     "text": [
      "Variance explained by first 700 components: 0.920\n"
     ]
    }
   ],
   "source": [
    "pca = PCA(n_components = 700)\n",
    "X_pca = pca.fit_transform(X_std)\n",
    "explained_variance = pca.explained_variance_ratio_\n",
    "variance_first_700 = explained_variance.sum()\n",
    "print(f\"Variance explained by first 700 components: {variance_first_700:.3f}\")"
   ]
  },
  {
   "cell_type": "code",
   "execution_count": 7,
   "id": "d349bb98",
   "metadata": {},
   "outputs": [],
   "source": [
    "df1 = pd.DataFrame(X_pca)"
   ]
  },
  {
   "cell_type": "code",
   "execution_count": 13,
   "id": "48da05e7",
   "metadata": {},
   "outputs": [
    {
     "name": "stdout",
     "output_type": "stream",
     "text": [
      "(8524, 700)\n",
      "(2132, 700)\n",
      "(8524,)\n",
      "(2132,)\n"
     ]
    }
   ],
   "source": [
    "y = df['Fraudulent']\n",
    "X_train, X_test, y_train, y_test = train_test_split(df1, y, test_size = 0.2, random_state = 4263)\n",
    "print(X_train.shape) \n",
    "print(X_test.shape)\n",
    "print(y_train.shape)\n",
    "print(y_test.shape)"
   ]
  },
  {
   "cell_type": "code",
   "execution_count": 9,
   "id": "9faafc65",
   "metadata": {},
   "outputs": [
    {
     "name": "stdout",
     "output_type": "stream",
     "text": [
      "Counts of label '1' in training data: 588\n",
      "Counts of label '0' in training data: 7936\n"
     ]
    }
   ],
   "source": [
    "print(\"Counts of label '1' in training data: {}\".format(sum(y_train == 1)))\n",
    "print(\"Counts of label '0' in training data: {}\".format(sum(y_train == 0)))"
   ]
  },
  {
   "cell_type": "code",
   "execution_count": 14,
   "id": "2b854e37",
   "metadata": {},
   "outputs": [],
   "source": [
    "def resampling_method(method,X_train,y_train):\n",
    "    if method == 'Undersampling':\n",
    "        rus = RandomUnderSampler(random_state=4263)\n",
    "        X_train_balanced, y_train_balanced = rus.fit_resample(X_train, y_train)\n",
    "    elif method == 'Oversampling':\n",
    "        ros = RandomOverSampler(random_state=4263)\n",
    "        X_train_balanced, y_train_balanced = ros.fit_resample(X_train, y_train)\n",
    "    else:\n",
    "        print('Invalid resampling method')\n",
    "    resampled_class_counts = pd.Series(y_train_balanced).value_counts()\n",
    "    print(\"Resampled class counts:\")\n",
    "    print(resampled_class_counts)\n",
    "    return X_train_balanced, y_train_balanced\n",
    "        "
   ]
  },
  {
   "cell_type": "code",
   "execution_count": 86,
   "id": "ad0cee7d",
   "metadata": {},
   "outputs": [
    {
     "name": "stdout",
     "output_type": "stream",
     "text": [
      "Resampled class counts:\n",
      "0    588\n",
      "1    588\n",
      "Name: Fraudulent, dtype: int64\n"
     ]
    }
   ],
   "source": [
    "X_train_balanced, y_train_balanced = resampling_method('Undersampling',X_train,y_train)"
   ]
  },
  {
   "cell_type": "code",
   "execution_count": 32,
   "id": "f7001b5f",
   "metadata": {},
   "outputs": [
    {
     "name": "stdout",
     "output_type": "stream",
     "text": [
      "Resampled class counts:\n",
      "0    7936\n",
      "1    7936\n",
      "Name: Fraudulent, dtype: int64\n"
     ]
    }
   ],
   "source": [
    "logistic_model = LogisticRegression(max_iter = 500, random_state = 4263, penalty='l1', solver='liblinear')\n",
    "\n",
    "logistic_model.fit(X_train_balanced, y_train_balanced)\n",
    "\n",
    "# Make predictions\n",
    "y_pred = logistic_model.predict(X_test)"
   ]
  },
  {
   "cell_type": "code",
   "execution_count": 21,
   "id": "f04ed624",
   "metadata": {},
   "outputs": [],
   "source": [
    "def evaluate_model(y_test,y_pred, model_name):\n",
    "    cm = confusion_matrix(y_test, y_pred)\n",
    "    fig, ax = plt.subplots(figsize=(8, 6))\n",
    "    sns.heatmap(cm, annot=True, cmap='Blues', fmt='d', cbar=False, ax=ax)\n",
    "    ax.set_xlabel('Predicted labels')\n",
    "    ax.set_ylabel('True labels')\n",
    "    ax.set_title(f'Confusion Matrix for {model_name}')\n",
    "    print(\"Accuracy:\", accuracy_score(y_test, y_pred))\n",
    "    print(classification_report(y_test, y_pred))\n",
    "    return cm"
   ]
  },
  {
   "cell_type": "code",
   "execution_count": 24,
   "id": "4fff7f2e",
   "metadata": {},
   "outputs": [
    {
     "name": "stdout",
     "output_type": "stream",
     "text": [
      "Accuracy: 0.9601313320825516\n",
      "              precision    recall  f1-score   support\n",
      "\n",
      "           0       0.98      0.98      0.98      1990\n",
      "           1       0.71      0.69      0.70       142\n",
      "\n",
      "    accuracy                           0.96      2132\n",
      "   macro avg       0.84      0.83      0.84      2132\n",
      "weighted avg       0.96      0.96      0.96      2132\n",
      "\n"
     ]
    },
    {
     "data": {
      "text/plain": [
       "array([[1949,   41],\n",
       "       [  44,   98]], dtype=int64)"
      ]
     },
     "execution_count": 24,
     "metadata": {},
     "output_type": "execute_result"
    },
    {
     "data": {
      "image/png": "[encoded data removed]",
      "text/plain": [
       "<Figure size 576x432 with 1 Axes>"
      ]
     },
     "metadata": {
      "needs_background": "light"
     },
     "output_type": "display_data"
    }
   ],
   "source": [
    "evaluate_model(y_test,y_pred,'Logistic Regression')"
   ]
  },
  {
   "cell_type": "code",
   "execution_count": 25,
   "id": "bb3e39c9",
   "metadata": {},
   "outputs": [],
   "source": [
    "def auc_roc(model,model_name,X_test,y_test):\n",
    "    pred_prob = model.predict_proba(X_test)\n",
    "    auc_score = round(roc_auc_score(y_test, pred_prob[:,1]),3)\n",
    "    fpr, tpr, thresh = roc_curve(y_test, pred_prob[:,1], pos_label=1)\n",
    "    plt.plot(fpr, tpr, linestyle='--',color='orange', label ='ROC curve (area = %0.3f)' % auc_score)\n",
    "    # title\n",
    "    plt.title('ROC curve')\n",
    "    # x label\n",
    "    plt.xlabel('False Positive Rate')\n",
    "    # y label\n",
    "    plt.ylabel('True Positive rate')\n",
    "    plt.legend(loc='best')\n",
    "    plt.show()\n",
    "    \n",
    "    return print(f'AUC score: {auc_score}')\n",
    "    "
   ]
  },
  {
   "cell_type": "code",
   "execution_count": 78,
   "id": "1f38eea3",
   "metadata": {},
   "outputs": [
    {
     "data": {
      "image/png": "[encoded data removed]",
      "text/plain": [
       "<Figure size 432x288 with 1 Axes>"
      ]
     },
     "metadata": {
      "needs_background": "light"
     },
     "output_type": "display_data"
    },
    {
     "name": "stdout",
     "output_type": "stream",
     "text": [
      "AUC score: 0.928\n"
     ]
    }
   ],
   "source": [
    "auc_roc(model,'Logistic Regression',X_test,y_test)"
   ]
  },
  {
   "cell_type": "code",
   "execution_count": 26,
   "id": "8aed50c6",
   "metadata": {},
   "outputs": [],
   "source": [
    "rfc = RandomForestClassifier(random_state = 4263, max_features='sqrt',n_estimators=100,max_depth = 10, n_jobs=-1)\n",
    "rfc.fit(X_train_balanced, y_train_balanced)\n",
    "y_pred = rfc.predict(X_test)"
   ]
  },
  {
   "cell_type": "code",
   "execution_count": 27,
   "id": "f6eb4e01",
   "metadata": {},
   "outputs": [
    {
     "name": "stdout",
     "output_type": "stream",
     "text": [
      "Accuracy: 0.9638836772983115\n",
      "              precision    recall  f1-score   support\n",
      "\n",
      "           0       0.96      1.00      0.98      1990\n",
      "           1       0.99      0.46      0.63       142\n",
      "\n",
      "    accuracy                           0.96      2132\n",
      "   macro avg       0.97      0.73      0.81      2132\n",
      "weighted avg       0.96      0.96      0.96      2132\n",
      "\n"
     ]
    },
    {
     "data": {
      "text/plain": [
       "array([[1989,    1],\n",
       "       [  76,   66]], dtype=int64)"
      ]
     },
     "execution_count": 27,
     "metadata": {},
     "output_type": "execute_result"
    },
    {
     "data": {
      "image/png": "[encoded data removed]",
      "text/plain": [
       "<Figure size 576x432 with 1 Axes>"
      ]
     },
     "metadata": {
      "needs_background": "light"
     },
     "output_type": "display_data"
    }
   ],
   "source": [
    "evaluate_model(y_test,y_pred,'Random Forest')"
   ]
  },
  {
   "cell_type": "code",
   "execution_count": 29,
   "id": "4c7fc92f",
   "metadata": {},
   "outputs": [
    {
     "data": {
      "image/png": "[encoded data removed]",
      "text/plain": [
       "<Figure size 432x288 with 1 Axes>"
      ]
     },
     "metadata": {
      "needs_background": "light"
     },
     "output_type": "display_data"
    },
    {
     "name": "stdout",
     "output_type": "stream",
     "text": [
      "AUC score: 0.966\n"
     ]
    }
   ],
   "source": [
    "auc_roc(rfc,'Random Forest',X_test,y_test)"
   ]
  },
  {
   "cell_type": "code",
   "execution_count": 53,
   "id": "f65ac67d",
   "metadata": {},
   "outputs": [],
   "source": [
    "import tensorflow as tf\n",
    "from tensorflow.keras.models import Sequential\n",
    "from tensorflow.keras.layers import Dense, Input\n",
    "from tensorflow.keras.optimizers import Adam"
   ]
  },
  {
   "cell_type": "code",
   "execution_count": 31,
   "id": "b1dd2708",
   "metadata": {},
   "outputs": [
    {
     "name": "stdout",
     "output_type": "stream",
     "text": [
      "700\n"
     ]
    }
   ],
   "source": [
    "num_features = X_train_balanced.shape[1]\n",
    "print(num_features)"
   ]
  },
  {
   "cell_type": "code",
   "execution_count": 80,
   "id": "ae9dc427",
   "metadata": {},
   "outputs": [
    {
     "name": "stdout",
     "output_type": "stream",
     "text": [
      "Model: \"sequential_6\"\n",
      "_________________________________________________________________\n",
      " Layer (type)                Output Shape              Param #   \n",
      "=================================================================\n",
      " dense_24 (Dense)            (None, 128)               89728     \n",
      "                                                                 \n",
      " dense_25 (Dense)            (None, 64)                8256      \n",
      "                                                                 \n",
      " dense_26 (Dense)            (None, 32)                2080      \n",
      "                                                                 \n",
      " dense_27 (Dense)            (None, 1)                 33        \n",
      "                                                                 \n",
      "=================================================================\n",
      "Total params: 100097 (391.00 KB)\n",
      "Trainable params: 100097 (391.00 KB)\n",
      "Non-trainable params: 0 (0.00 Byte)\n",
      "_________________________________________________________________\n"
     ]
    }
   ],
   "source": [
    "# Build the model\n",
    "nn_model = Sequential([\n",
    "    Input(shape=(num_features,)),  # Input layer\n",
    "    Dense(128, activation='relu'), # First hidden layer\n",
    "    Dense(64, activation='relu'),  # Second hidden layer\n",
    "    Dense(32, activation='relu'),  # Third hidden layer\n",
    "    Dense(1, activation='sigmoid') # Output layer (binary classification)\n",
    "])\n",
    "optimizer = Adam(learning_rate=0.001)  \n",
    "nn_model.compile(optimizer=optimizer, loss='binary_crossentropy', metrics=['accuracy'])\n",
    "\n",
    "# Print model summary\n",
    "nn_model.summary()"
   ]
  },
  {
   "cell_type": "code",
   "execution_count": 87,
   "id": "2cd8f35e",
   "metadata": {},
   "outputs": [
    {
     "name": "stdout",
     "output_type": "stream",
     "text": [
      "Epoch 1/10\n",
      "37/37 [==============================] - 1s 8ms/step - loss: 4.9860e-06 - accuracy: 1.0000 - val_loss: 0.1928 - val_accuracy: 0.9798\n",
      "Epoch 2/10\n",
      "37/37 [==============================] - 0s 7ms/step - loss: 4.7205e-06 - accuracy: 1.0000 - val_loss: 0.1929 - val_accuracy: 0.9798\n",
      "Epoch 3/10\n",
      "37/37 [==============================] - 0s 7ms/step - loss: 4.4594e-06 - accuracy: 1.0000 - val_loss: 0.1929 - val_accuracy: 0.9798\n",
      "Epoch 4/10\n",
      "37/37 [==============================] - 0s 7ms/step - loss: 4.2381e-06 - accuracy: 1.0000 - val_loss: 0.1929 - val_accuracy: 0.9798\n",
      "Epoch 5/10\n",
      "37/37 [==============================] - 0s 7ms/step - loss: 4.0471e-06 - accuracy: 1.0000 - val_loss: 0.1930 - val_accuracy: 0.9798\n",
      "Epoch 6/10\n",
      "37/37 [==============================] - 0s 8ms/step - loss: 3.8688e-06 - accuracy: 1.0000 - val_loss: 0.1930 - val_accuracy: 0.9798\n",
      "Epoch 7/10\n",
      "37/37 [==============================] - 0s 9ms/step - loss: 3.7070e-06 - accuracy: 1.0000 - val_loss: 0.1930 - val_accuracy: 0.9798\n",
      "Epoch 8/10\n",
      "37/37 [==============================] - 0s 9ms/step - loss: 3.5535e-06 - accuracy: 1.0000 - val_loss: 0.1930 - val_accuracy: 0.9794\n",
      "Epoch 9/10\n",
      "37/37 [==============================] - 0s 8ms/step - loss: 3.4150e-06 - accuracy: 1.0000 - val_loss: 0.1930 - val_accuracy: 0.9794\n",
      "Epoch 10/10\n",
      "37/37 [==============================] - 0s 9ms/step - loss: 3.2865e-06 - accuracy: 1.0000 - val_loss: 0.1930 - val_accuracy: 0.9794\n"
     ]
    },
    {
     "data": {
      "text/plain": [
       "<keras.src.callbacks.History at 0x1882a2a2bb0>"
      ]
     },
     "execution_count": 87,
     "metadata": {},
     "output_type": "execute_result"
    }
   ],
   "source": [
    "nn_model.fit(X_train_balanced,\n",
    "             y_train_balanced,\n",
    "             epochs=10, \n",
    "             batch_size=32,\n",
    "             validation_data=(X_test, y_test))"
   ]
  },
  {
   "cell_type": "code",
   "execution_count": 88,
   "id": "1bf9d909",
   "metadata": {},
   "outputs": [
    {
     "name": "stdout",
     "output_type": "stream",
     "text": [
      "67/67 [==============================] - 0s 2ms/step - loss: 0.1930 - accuracy: 0.9794\n",
      "Test Accuracy: 0.9794\n"
     ]
    }
   ],
   "source": [
    "loss, accuracy = nn_model.evaluate(X_test, y_test)\n",
    "print(f\"Test Accuracy: {accuracy:.4f}\")"
   ]
  },
  {
   "cell_type": "code",
   "execution_count": 89,
   "id": "6eddd6ad",
   "metadata": {},
   "outputs": [
    {
     "name": "stdout",
     "output_type": "stream",
     "text": [
      "67/67 [==============================] - 0s 2ms/step\n"
     ]
    }
   ],
   "source": [
    "y_pred = nn_model.predict(X_test)"
   ]
  },
  {
   "cell_type": "code",
   "execution_count": 90,
   "id": "7bff6c61",
   "metadata": {},
   "outputs": [],
   "source": [
    "y_pred = np.round(y_pred).tolist()"
   ]
  },
  {
   "cell_type": "code",
   "execution_count": 91,
   "id": "6ad412ea",
   "metadata": {},
   "outputs": [
    {
     "name": "stdout",
     "output_type": "stream",
     "text": [
      "Accuracy: 0.9793621013133208\n",
      "              precision    recall  f1-score   support\n",
      "\n",
      "           0       0.98      0.99      0.99      1990\n",
      "           1       0.91      0.77      0.83       142\n",
      "\n",
      "    accuracy                           0.98      2132\n",
      "   macro avg       0.95      0.88      0.91      2132\n",
      "weighted avg       0.98      0.98      0.98      2132\n",
      "\n"
     ]
    },
    {
     "data": {
      "text/plain": [
       "array([[1979,   11],\n",
       "       [  33,  109]], dtype=int64)"
      ]
     },
     "execution_count": 91,
     "metadata": {},
     "output_type": "execute_result"
    },
    {
     "data": {
      "image/png": "[encoded data removed]",
      "text/plain": [
       "<Figure size 576x432 with 1 Axes>"
      ]
     },
     "metadata": {
      "needs_background": "light"
     },
     "output_type": "display_data"
    }
   ],
   "source": [
    "evaluate_model(y_test,y_pred,'Neural Network')"
   ]
  },
  {
   "cell_type": "code",
   "execution_count": null,
   "id": "5bb77626",
   "metadata": {},
   "outputs": [],
   "source": []
  }
 ],
 "metadata": {
  "kernelspec": {
   "display_name": "Python 3",
   "language": "python",
   "name": "python3"
  },
  "language_info": {
   "codemirror_mode": {
    "name": "ipython",
    "version": 3
   },
   "file_extension": ".py",
   "mimetype": "text/x-python",
   "name": "python",
   "nbconvert_exporter": "python",
   "pygments_lexer": "ipython3",
   "version": "3.8.8"
  }
 },
 "nbformat": 4,
 "nbformat_minor": 5
}
