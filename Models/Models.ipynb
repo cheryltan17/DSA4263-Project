{
 "cells": [
  {
   "cell_type": "code",
   "execution_count": 1,
   "id": "10f383b8",
   "metadata": {},
   "outputs": [],
   "source": [
    "import pandas as pd\n",
    "import numpy as np\n",
    "from sklearn.preprocessing import StandardScaler\n",
    "import matplotlib.pyplot as plt\n",
    "import seaborn as sns\n",
    "from sklearn.model_selection import train_test_split\n",
    "\n",
    "from sklearn.decomposition import PCA\n",
    "from sklearn.linear_model import LogisticRegression\n",
    "from sklearn.ensemble import RandomForestClassifier\n",
    "from sklearn.model_selection import GridSearchCV\n",
    "from sklearn.metrics import accuracy_score, classification_report, roc_curve, confusion_matrix, roc_auc_score, auc"
   ]
  },
  {
   "cell_type": "code",
   "execution_count": 2,
   "id": "ac2341c5",
   "metadata": {},
   "outputs": [],
   "source": [
    "import Models"
   ]
  },
  {
   "cell_type": "code",
   "execution_count": 3,
   "id": "668820e6",
   "metadata": {},
   "outputs": [],
   "source": [
    "df = pd.read_csv('C:/Users/cheryl/Downloads/df_for_model.csv', encoding='latin-1')"
   ]
  },
  {
   "cell_type": "code",
   "execution_count": 4,
   "id": "4f1104af",
   "metadata": {},
   "outputs": [],
   "source": [
    "embedded_cols = [\"Job Title_embed\",\"Profile_embed\",\"Department_embed\",\"Job_Description_embed\",\"Requirements_embed\",\n",
    "                \"Job_Benefits_embed\",\"Type_of_Industry_embed\",\"Operations_embed\",\"City_embed\"]\n",
    "categorical_feats = [\"Qualification_bachelor's degree\", \"Salary_Specified\", \"Type_of_Employment_unspecified\",\n",
    "                     \"Qualification_high school\", \"City_Specified\", \"Experience_entry level\",\"Qualification_master's degree\",\n",
    "                     \"Experience_unspecified\", \"Telecomunication\",\"Qualification_vocational / certification/ professional\",\n",
    "                     \"Experience_midsenior level\", \"Qualification_unspecified\", \"Type_of_Employment_fulltime\"]"
   ]
  },
  {
   "cell_type": "code",
   "execution_count": 5,
   "id": "0d5108e4",
   "metadata": {},
   "outputs": [],
   "source": [
    "for col in embedded_cols:\n",
    "    df[col] = df[col].apply(Models.convert_to_array)"
   ]
  },
  {
   "cell_type": "code",
   "execution_count": 6,
   "id": "0eeeea49",
   "metadata": {},
   "outputs": [],
   "source": [
    "X = Models.flatten(df)"
   ]
  },
  {
   "cell_type": "markdown",
   "id": "285bc7a9",
   "metadata": {},
   "source": [
    "## PCA"
   ]
  },
  {
   "cell_type": "code",
   "execution_count": 13,
   "id": "6b507497",
   "metadata": {},
   "outputs": [],
   "source": [
    "scaler = StandardScaler()\n",
    "X_std = scaler.fit_transform(X)"
   ]
  },
  {
   "cell_type": "code",
   "execution_count": 15,
   "id": "5a63658f",
   "metadata": {},
   "outputs": [
    {
     "data": {
      "image/png": "[encoded data removed]",
      "text/plain": [
       "<Figure size 432x288 with 1 Axes>"
      ]
     },
     "metadata": {
      "needs_background": "light"
     },
     "output_type": "display_data"
    }
   ],
   "source": [
    "X_pca = Models.do_pca(X_std)"
   ]
  },
  {
   "cell_type": "code",
   "execution_count": 16,
   "id": "6a4e80f3",
   "metadata": {},
   "outputs": [
    {
     "name": "stdout",
     "output_type": "stream",
     "text": [
      "Variance explained by first 100 components: 0.618\n"
     ]
    }
   ],
   "source": [
    "pca = PCA(n_components = 100)\n",
    "X_pca = pca.fit_transform(X_std)\n",
    "explained_variance = pca.explained_variance_ratio_\n",
    "variance_first_100 = explained_variance.sum()\n",
    "print(f\"Variance explained by first 100 components: {variance_first_100:.3f}\")"
   ]
  },
  {
   "cell_type": "markdown",
   "id": "1b7679a5",
   "metadata": {},
   "source": [
    "## Train-Test Split"
   ]
  },
  {
   "cell_type": "code",
   "execution_count": 17,
   "id": "48da05e7",
   "metadata": {},
   "outputs": [
    {
     "name": "stdout",
     "output_type": "stream",
     "text": [
      "(8524, 100)\n",
      "(2132, 100)\n",
      "(8524,)\n",
      "(2132,)\n"
     ]
    }
   ],
   "source": [
    "df1 = pd.DataFrame(X_pca)\n",
    "y = df['Fraudulent']\n",
    "X_train, X_test, y_train, y_test = train_test_split(df1, y, test_size = 0.2, random_state = 4263)\n",
    "print(X_train.shape) \n",
    "print(X_test.shape)\n",
    "print(y_train.shape)\n",
    "print(y_test.shape)"
   ]
  },
  {
   "cell_type": "code",
   "execution_count": 18,
   "id": "9faafc65",
   "metadata": {},
   "outputs": [
    {
     "name": "stdout",
     "output_type": "stream",
     "text": [
      "Counts of label '1' in training data: 588\n",
      "Counts of label '0' in training data: 7936\n"
     ]
    }
   ],
   "source": [
    "print(\"Counts of label '1' in training data: {}\".format(sum(y_train == 1)))\n",
    "print(\"Counts of label '0' in training data: {}\".format(sum(y_train == 0)))"
   ]
  },
  {
   "cell_type": "markdown",
   "id": "1aab4a0c",
   "metadata": {},
   "source": [
    "## Resampling"
   ]
  },
  {
   "cell_type": "code",
   "execution_count": 19,
   "id": "ad0cee7d",
   "metadata": {},
   "outputs": [
    {
     "name": "stdout",
     "output_type": "stream",
     "text": [
      "Resampled class counts:\n",
      "0    7936\n",
      "1    7936\n",
      "Name: Fraudulent, dtype: int64\n"
     ]
    }
   ],
   "source": [
    "X_train_balanced, y_train_balanced = Models.resampling_method('Oversampling',X_train,y_train)"
   ]
  },
  {
   "cell_type": "markdown",
   "id": "f774eb01",
   "metadata": {},
   "source": [
    "## Logistic regression (without tuning)"
   ]
  },
  {
   "cell_type": "code",
   "execution_count": 20,
   "id": "cf88761a",
   "metadata": {},
   "outputs": [],
   "source": [
    "logistic_model = LogisticRegression(solver='liblinear',random_state = 4263)\n",
    "\n",
    "logistic_model.fit(X_train_balanced, y_train_balanced)\n",
    "\n",
    "# Make predictions\n",
    "y_pred = logistic_model.predict(X_test)"
   ]
  },
  {
   "cell_type": "code",
   "execution_count": 21,
   "id": "46e35d33",
   "metadata": {},
   "outputs": [
    {
     "name": "stdout",
     "output_type": "stream",
     "text": [
      "Accuracy: 0.900562851782364\n",
      "              precision    recall  f1-score   support\n",
      "\n",
      "           0       0.99      0.90      0.94      1990\n",
      "           1       0.39      0.87      0.54       142\n",
      "\n",
      "    accuracy                           0.90      2132\n",
      "   macro avg       0.69      0.89      0.74      2132\n",
      "weighted avg       0.95      0.90      0.92      2132\n",
      "\n"
     ]
    },
    {
     "data": {
      "text/plain": [
       "array([[1796,  194],\n",
       "       [  18,  124]], dtype=int64)"
      ]
     },
     "execution_count": 21,
     "metadata": {},
     "output_type": "execute_result"
    },
    {
     "data": {
      "image/png": "[encoded data removed]",
      "text/plain": [
       "<Figure size 576x432 with 1 Axes>"
      ]
     },
     "metadata": {
      "needs_background": "light"
     },
     "output_type": "display_data"
    }
   ],
   "source": [
    "Models.evaluate_model(y_test,y_pred,'Logistic Regression without tuning')"
   ]
  },
  {
   "cell_type": "code",
   "execution_count": 22,
   "id": "1f38eea3",
   "metadata": {},
   "outputs": [
    {
     "data": {
      "image/png": "[encoded data removed]",
      "text/plain": [
       "<Figure size 432x288 with 1 Axes>"
      ]
     },
     "metadata": {
      "needs_background": "light"
     },
     "output_type": "display_data"
    },
    {
     "name": "stdout",
     "output_type": "stream",
     "text": [
      "AUC score: 0.948\n"
     ]
    }
   ],
   "source": [
    "Models.auc_roc(logistic_model,'Logistic Regression without tuning',X_test,y_test)"
   ]
  },
  {
   "cell_type": "markdown",
   "id": "3b62cdba",
   "metadata": {},
   "source": [
    "## Logistic regression (with tuning)"
   ]
  },
  {
   "cell_type": "code",
   "execution_count": 23,
   "id": "84ab2829",
   "metadata": {},
   "outputs": [
    {
     "name": "stdout",
     "output_type": "stream",
     "text": [
      "Best Parameters: {'C': 0.01, 'penalty': 'l2'}\n",
      "Best Accuracy: 0.9372472180293601\n",
      "Test Accuracy: 0.8888367729831145\n"
     ]
    }
   ],
   "source": [
    "param_grid = {\n",
    "    'C': [0.01, 0.1, 1, 10, 100],  # Regularization strength\n",
    "    'penalty': ['l1', 'l2']  # L1 (Lasso) or L2 (Ridge) regularization\n",
    "}\n",
    "\n",
    "# Perform Grid Search with cross-validation\n",
    "grid_search = GridSearchCV(logistic_model, \n",
    "                           param_grid, \n",
    "                           cv=5, \n",
    "                           scoring= ['precision','recall'],\n",
    "                           refit = 'recall',\n",
    "                           n_jobs=-1)\n",
    "grid_search.fit(X_train_balanced, y_train_balanced)\n",
    "\n",
    "# Print the best parameters and corresponding accuracy\n",
    "print(\"Best Parameters:\", grid_search.best_params_)\n",
    "print(\"Best Accuracy:\", grid_search.best_score_)\n",
    "\n",
    "# Evaluate on the test set\n",
    "best_model = grid_search.best_estimator_\n",
    "y_pred = best_model.predict(X_test)\n",
    "print(\"Test Accuracy:\", accuracy_score(y_test, y_pred))"
   ]
  },
  {
   "cell_type": "code",
   "execution_count": 24,
   "id": "d3b4aeb9",
   "metadata": {},
   "outputs": [
    {
     "name": "stdout",
     "output_type": "stream",
     "text": [
      "Accuracy: 0.8888367729831145\n",
      "              precision    recall  f1-score   support\n",
      "\n",
      "           0       0.99      0.89      0.94      1990\n",
      "           1       0.36      0.89      0.52       142\n",
      "\n",
      "    accuracy                           0.89      2132\n",
      "   macro avg       0.68      0.89      0.73      2132\n",
      "weighted avg       0.95      0.89      0.91      2132\n",
      "\n"
     ]
    },
    {
     "data": {
      "text/plain": [
       "array([[1768,  222],\n",
       "       [  15,  127]], dtype=int64)"
      ]
     },
     "execution_count": 24,
     "metadata": {},
     "output_type": "execute_result"
    },
    {
     "data": {
      "image/png": "[encoded data removed]",
      "text/plain": [
       "<Figure size 576x432 with 1 Axes>"
      ]
     },
     "metadata": {
      "needs_background": "light"
     },
     "output_type": "display_data"
    }
   ],
   "source": [
    "Models.evaluate_model(y_test,y_pred,'Logistic Regression with tuning')"
   ]
  },
  {
   "cell_type": "code",
   "execution_count": 25,
   "id": "d46d5bab",
   "metadata": {},
   "outputs": [
    {
     "data": {
      "image/png": "[encoded data removed]",
      "text/plain": [
       "<Figure size 432x288 with 1 Axes>"
      ]
     },
     "metadata": {
      "needs_background": "light"
     },
     "output_type": "display_data"
    },
    {
     "name": "stdout",
     "output_type": "stream",
     "text": [
      "AUC score: 0.948\n"
     ]
    }
   ],
   "source": [
    "Models.auc_roc(best_model,'Logistic Regression with tuning',X_test,y_test)"
   ]
  },
  {
   "cell_type": "markdown",
   "id": "59d8f9e8",
   "metadata": {},
   "source": [
    "## Random Forest (without tuning)"
   ]
  },
  {
   "cell_type": "code",
   "execution_count": 26,
   "id": "69f217a9",
   "metadata": {},
   "outputs": [],
   "source": [
    "rfc = RandomForestClassifier(random_state = 4263)\n",
    "rfc.fit(X_train_balanced, y_train_balanced)\n",
    "y_pred = rfc.predict(X_test)"
   ]
  },
  {
   "cell_type": "code",
   "execution_count": 27,
   "id": "f6eb4e01",
   "metadata": {},
   "outputs": [
    {
     "name": "stdout",
     "output_type": "stream",
     "text": [
      "Accuracy: 0.9666979362101313\n",
      "              precision    recall  f1-score   support\n",
      "\n",
      "           0       0.97      1.00      0.98      1990\n",
      "           1       0.99      0.51      0.67       142\n",
      "\n",
      "    accuracy                           0.97      2132\n",
      "   macro avg       0.98      0.75      0.83      2132\n",
      "weighted avg       0.97      0.97      0.96      2132\n",
      "\n"
     ]
    },
    {
     "data": {
      "text/plain": [
       "array([[1989,    1],\n",
       "       [  70,   72]], dtype=int64)"
      ]
     },
     "execution_count": 27,
     "metadata": {},
     "output_type": "execute_result"
    },
    {
     "data": {
      "image/png": "[encoded data removed]",
      "text/plain": [
       "<Figure size 576x432 with 1 Axes>"
      ]
     },
     "metadata": {
      "needs_background": "light"
     },
     "output_type": "display_data"
    }
   ],
   "source": [
    "Models.evaluate_model(y_test,y_pred,'Random Forest without tuning')"
   ]
  },
  {
   "cell_type": "code",
   "execution_count": 28,
   "id": "42e2dd6d",
   "metadata": {},
   "outputs": [
    {
     "data": {
      "image/png": "[encoded data removed]",
      "text/plain": [
       "<Figure size 432x288 with 1 Axes>"
      ]
     },
     "metadata": {
      "needs_background": "light"
     },
     "output_type": "display_data"
    },
    {
     "name": "stdout",
     "output_type": "stream",
     "text": [
      "AUC score: 0.981\n"
     ]
    }
   ],
   "source": [
    "Models.auc_roc(rfc,'Random Forest without tuning',X_test,y_test)"
   ]
  },
  {
   "cell_type": "markdown",
   "id": "d97ade2b",
   "metadata": {},
   "source": [
    "## Random Forest (with tuning)"
   ]
  },
  {
   "cell_type": "code",
   "execution_count": 62,
   "id": "8aed50c6",
   "metadata": {},
   "outputs": [],
   "source": [
    "rfc = RandomForestClassifier(random_state = 4263, \n",
    "                             max_features = 'sqrt',\n",
    "                             n_estimators= 50,\n",
    "                             max_depth = 9, \n",
    "                             criterion = 'gini',\n",
    "                             n_jobs=-1)\n",
    "rfc.fit(X_train_balanced, y_train_balanced)\n",
    "y_pred = rfc.predict(X_test)"
   ]
  },
  {
   "cell_type": "code",
   "execution_count": 63,
   "id": "13326880",
   "metadata": {},
   "outputs": [
    {
     "name": "stdout",
     "output_type": "stream",
     "text": [
      "Accuracy: 0.9648217636022514\n",
      "              precision    recall  f1-score   support\n",
      "\n",
      "           0       0.98      0.98      0.98      1990\n",
      "           1       0.75      0.71      0.73       142\n",
      "\n",
      "    accuracy                           0.96      2132\n",
      "   macro avg       0.86      0.85      0.86      2132\n",
      "weighted avg       0.96      0.96      0.96      2132\n",
      "\n"
     ]
    },
    {
     "data": {
      "text/plain": [
       "array([[1956,   34],\n",
       "       [  41,  101]], dtype=int64)"
      ]
     },
     "execution_count": 63,
     "metadata": {},
     "output_type": "execute_result"
    },
    {
     "data": {
      "image/png": "[encoded data removed]",
      "text/plain": [
       "<Figure size 576x432 with 1 Axes>"
      ]
     },
     "metadata": {
      "needs_background": "light"
     },
     "output_type": "display_data"
    }
   ],
   "source": [
    "Models.evaluate_model(y_test,y_pred,'Random Forest with tuning')"
   ]
  },
  {
   "cell_type": "code",
   "execution_count": 64,
   "id": "4c7fc92f",
   "metadata": {},
   "outputs": [
    {
     "data": {
      "image/png": "[encoded data removed]",
      "text/plain": [
       "<Figure size 432x288 with 1 Axes>"
      ]
     },
     "metadata": {
      "needs_background": "light"
     },
     "output_type": "display_data"
    },
    {
     "name": "stdout",
     "output_type": "stream",
     "text": [
      "AUC score: 0.962\n"
     ]
    }
   ],
   "source": [
    "Models.auc_roc(rfc,'Random Forest with tuning',X_test,y_test)"
   ]
  },
  {
   "cell_type": "markdown",
   "id": "b7b8ef55",
   "metadata": {},
   "source": [
    "## Neural Networks"
   ]
  },
  {
   "cell_type": "code",
   "execution_count": null,
   "id": "f65ac67d",
   "metadata": {},
   "outputs": [],
   "source": [
    "import tensorflow as tf\n",
    "from tensorflow.keras.models import Sequential\n",
    "from tensorflow.keras.layers import Dense, Input\n",
    "from tensorflow.keras.optimizers import Adam"
   ]
  },
  {
   "cell_type": "code",
   "execution_count": null,
   "id": "b1dd2708",
   "metadata": {},
   "outputs": [],
   "source": [
    "num_features = X_train_balanced.shape[1]\n",
    "print(num_features)"
   ]
  },
  {
   "cell_type": "code",
   "execution_count": null,
   "id": "ae9dc427",
   "metadata": {},
   "outputs": [],
   "source": [
    "# Build the model\n",
    "nn_model = Sequential([\n",
    "    Input(shape=(num_features,)),  # Input layer\n",
    "    Dense(128, activation='relu'), # First hidden layer\n",
    "    Dense(64, activation='relu'),  # Second hidden layer\n",
    "    Dense(32, activation='relu'),  # Third hidden layer\n",
    "    Dense(1, activation='sigmoid') # Output layer (binary classification)\n",
    "])\n",
    "optimizer = Adam(learning_rate=0.001)  \n",
    "nn_model.compile(optimizer=optimizer, loss='binary_crossentropy', metrics=['accuracy',tf.keras.metrics.Recall()])\n",
    "\n",
    "# Print model summary\n",
    "nn_model.summary()"
   ]
  },
  {
   "cell_type": "code",
   "execution_count": null,
   "id": "2cd8f35e",
   "metadata": {},
   "outputs": [],
   "source": [
    "nn_model.fit(X_train_balanced,\n",
    "             y_train_balanced,\n",
    "             epochs=10, \n",
    "             batch_size=32,\n",
    "             validation_data=(X_test, y_test))"
   ]
  },
  {
   "cell_type": "code",
   "execution_count": null,
   "id": "4ab36cc0",
   "metadata": {},
   "outputs": [],
   "source": [
    "results = nn_model.evaluate(X_test, y_test)\n",
    "accuracy = results[1]\n",
    "recall = results[2]\n",
    "print(f\"Test Accuracy: {accuracy:.4f}\")\n",
    "print(f\"Test Recall: {recall:.4f}\")"
   ]
  },
  {
   "cell_type": "code",
   "execution_count": null,
   "id": "6eddd6ad",
   "metadata": {},
   "outputs": [],
   "source": [
    "y_pred = nn_model.predict(X_test)\n",
    "y_pred = np.round(y_pred).tolist()"
   ]
  },
  {
   "cell_type": "code",
   "execution_count": null,
   "id": "6ad412ea",
   "metadata": {},
   "outputs": [],
   "source": [
    "Models.evaluate_model(y_test,y_pred,'Neural Network')"
   ]
  },
  {
   "cell_type": "code",
   "execution_count": null,
   "id": "5bb77626",
   "metadata": {},
   "outputs": [],
   "source": []
  }
 ],
 "metadata": {
  "kernelspec": {
   "display_name": "Python 3",
   "language": "python",
   "name": "python3"
  },
  "language_info": {
   "codemirror_mode": {
    "name": "ipython",
    "version": 3
   },
   "file_extension": ".py",
   "mimetype": "text/x-python",
   "name": "python",
   "nbconvert_exporter": "python",
   "pygments_lexer": "ipython3",
   "version": "3.8.8"
  }
 },
 "nbformat": 4,
 "nbformat_minor": 5
}
