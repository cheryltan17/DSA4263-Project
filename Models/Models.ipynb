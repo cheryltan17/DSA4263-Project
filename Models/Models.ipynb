{
 "cells": [
  {
   "cell_type": "code",
   "execution_count": 2,
   "id": "10f383b8",
   "metadata": {},
   "outputs": [],
   "source": [
    "import pandas as pd\n",
    "import numpy as np\n",
    "from sklearn.preprocessing import StandardScaler\n",
    "import matplotlib.pyplot as plt\n",
    "from sklearn.model_selection import train_test_split\n",
    "import seaborn as sns\n",
    "from imblearn.under_sampling import RandomUnderSampler\n",
    "from imblearn.over_sampling import RandomOverSampler\n",
    "from imblearn.over_sampling import SMOTENC\n",
    "from sklearn.decomposition import PCA\n",
    "from sklearn.linear_model import LogisticRegression\n",
    "from sklearn.metrics import accuracy_score, classification_report, roc_curve, confusion_matrix, roc_auc_score"
   ]
  },
  {
   "cell_type": "code",
   "execution_count": 3,
   "id": "668820e6",
   "metadata": {},
   "outputs": [],
   "source": [
    "df = pd.read_csv('C:/Users/cheryl/Downloads/df_for_model.csv', encoding='latin-1')"
   ]
  },
  {
   "cell_type": "code",
   "execution_count": 4,
   "id": "2371428d",
   "metadata": {},
   "outputs": [],
   "source": [
    "df1 = df"
   ]
  },
  {
   "cell_type": "code",
   "execution_count": 5,
   "id": "4f1104af",
   "metadata": {},
   "outputs": [],
   "source": [
    "embedded_cols = [\"Job Title_embed\",\"Profile_embed\",\"Department_embed\",\"Job_Description_embed\",\"Requirements_embed\",\n",
    "                \"Job_Benefits_embed\",\"Type_of_Industry_embed\",\"Operations_embed\",\"City_embed\"]\n",
    "categorical_feats = [\"Qualification_bachelor's degree\", \"Salary_Specified\", \"Type_of_Employment_unspecified\",\n",
    "                     \"Qualification_high school\", \"City_Specified\", \"Experience_entry level\",\"Qualification_master's degree\",\n",
    "                     \"Experience_unspecified\", \"Telecomunication\",\"Qualification_vocational / certification/ professional\",\n",
    "                     \"Experience_midsenior level\", \"Qualification_unspecified\", \"Type_of_Employment_fulltime\"]"
   ]
  },
  {
   "cell_type": "code",
   "execution_count": 6,
   "id": "0d5108e4",
   "metadata": {},
   "outputs": [],
   "source": [
    "def convert_to_array(s):\n",
    "    # Clean the string\n",
    "    cleaned_str = s.strip('[]').replace('\\n', ' ').replace('  ', ' ').strip()\n",
    "    # Convert the cleaned string to a NumPy array\n",
    "    return np.fromstring(cleaned_str, sep=' ')\n",
    "\n",
    "for col in embedded_cols:\n",
    "    df1[col] = df1[col].apply(convert_to_array)"
   ]
  },
  {
   "cell_type": "code",
   "execution_count": 8,
   "id": "b4370244",
   "metadata": {},
   "outputs": [],
   "source": [
    "scaler = StandardScaler()\n",
    "X_text = np.hstack([np.vstack(df1[col]) for col in embedded_cols])\n",
    "X_cat = df1[categorical_feats].values\n",
    "X_num = df1[['Range_of_Salary']]\n",
    "X = np.hstack([X_text, X_cat, X_num])\n",
    "\n",
    "X_std = scaler.fit_transform(X)\n",
    "\n",
    "pca = PCA()\n",
    "X_pca = pca.fit_transform(X_std)\n",
    "\n",
    "# Plot Explained Variance Ratio\n",
    "explained_var_ratio = pca.explained_variance_ratio_\n",
    "cumulative_var_ratio = np.cumsum(explained_var_ratio)"
   ]
  },
  {
   "cell_type": "code",
   "execution_count": 9,
   "id": "278789e4",
   "metadata": {},
   "outputs": [
    {
     "data": {
      "image/png": "[encoded data removed]",
      "text/plain": [
       "<Figure size 432x288 with 1 Axes>"
      ]
     },
     "metadata": {
      "needs_background": "light"
     },
     "output_type": "display_data"
    }
   ],
   "source": [
    "plt.plot(range(1, len(cumulative_var_ratio) + 1), cumulative_var_ratio, marker='o')\n",
    "plt.xlabel('Number of Principal Components')\n",
    "plt.ylabel('Cumulative Explained Variance Ratio')\n",
    "plt.title('Explained Variance Ratio vs. Number of Principal Components')\n",
    "plt.show()"
   ]
  },
  {
   "cell_type": "code",
   "execution_count": 10,
   "id": "6a4e80f3",
   "metadata": {},
   "outputs": [],
   "source": [
    "pca = PCA(n_components= 1000)\n",
    "X_pca = pca.fit_transform(X_std)"
   ]
  },
  {
   "cell_type": "code",
   "execution_count": 11,
   "id": "48da05e7",
   "metadata": {},
   "outputs": [
    {
     "name": "stdout",
     "output_type": "stream",
     "text": [
      "(8524, 1000)\n",
      "(2132, 1000)\n",
      "(8524,)\n",
      "(2132,)\n"
     ]
    }
   ],
   "source": [
    "y = df1['Fraudulent']\n",
    "X_train, X_test, y_train, y_test = train_test_split(X_pca, y, test_size = 0.2, random_state = 4263)\n",
    "print(X_train.shape) \n",
    "print(X_test.shape)\n",
    "print(y_train.shape)\n",
    "print(y_test.shape)"
   ]
  },
  {
   "cell_type": "code",
   "execution_count": 68,
   "id": "9faafc65",
   "metadata": {},
   "outputs": [
    {
     "name": "stdout",
     "output_type": "stream",
     "text": [
      "Counts of label '1' in training data: 588\n",
      "Counts of label '0' in training data: 7936\n"
     ]
    }
   ],
   "source": [
    "print(\"Counts of label '1' in training data: {}\".format(sum(y_train == 1)))\n",
    "print(\"Counts of label '0' in training data: {}\".format(sum(y_train == 0)))"
   ]
  },
  {
   "cell_type": "code",
   "execution_count": 35,
   "id": "2b854e37",
   "metadata": {},
   "outputs": [],
   "source": [
    "def resampling_method(method,X_train,y_train):\n",
    "    if method == 'Undersampling':\n",
    "        rus = RandomUnderSampler(random_state=4263)\n",
    "        X_train_balanced, y_train_balanced = rus.fit_resample(X_train, y_train)\n",
    "    elif method == 'Oversampling':\n",
    "        ros = RandomOverSampler(random_state=4263)\n",
    "        X_train_balanced, y_train_balanced = ros.fit_resample(X_train, y_train)\n",
    "    else:\n",
    "        print(\"Invalid resampling method\")\n",
    "    resampled_class_counts = pd.Series(y_train_balanced).value_counts()\n",
    "    print(\"Resampled class counts:\")\n",
    "    print(resampled_class_counts)\n",
    "    return X_train_balanced, y_train_balanced\n",
    "        "
   ]
  },
  {
   "cell_type": "code",
   "execution_count": 37,
   "id": "f7001b5f",
   "metadata": {},
   "outputs": [
    {
     "name": "stdout",
     "output_type": "stream",
     "text": [
      "Resampled class counts:\n",
      "0    7936\n",
      "1    7936\n",
      "Name: Fraudulent, dtype: int64\n",
      "Accuracy: 0.9666979362101313\n",
      "              precision    recall  f1-score   support\n",
      "\n",
      "           0       0.98      0.98      0.98      1990\n",
      "           1       0.76      0.73      0.74       142\n",
      "\n",
      "    accuracy                           0.97      2132\n",
      "   macro avg       0.87      0.85      0.86      2132\n",
      "weighted avg       0.97      0.97      0.97      2132\n",
      "\n"
     ]
    }
   ],
   "source": [
    "model = LogisticRegression(max_iter = 500, random_state = 4263)\n",
    "X_train_balanced, y_train_balanced = resampling_method('Oversampling',X_train,y_train)\n",
    "model.fit(X_train_balanced, y_train_balanced)\n",
    "\n",
    "# Make predictions\n",
    "y_pred = model.predict(X_test)\n",
    "\n",
    "# Evaluate model performance\n",
    "print(\"Accuracy:\", accuracy_score(y_test, y_pred))\n",
    "print(classification_report(y_test, y_pred))"
   ]
  },
  {
   "cell_type": "code",
   "execution_count": 40,
   "id": "f04ed624",
   "metadata": {},
   "outputs": [],
   "source": [
    "def plot_confusion_matrix(y_test,y_pred, model_name):\n",
    "    cm = confusion_matrix(y_test, y_pred)\n",
    "    fig, ax = plt.subplots(figsize=(8, 6))\n",
    "    sns.heatmap(cm, annot=True, cmap='Blues', fmt='d', cbar=False, ax=ax)\n",
    "    ax.set_xlabel('Predicted labels')\n",
    "    ax.set_ylabel('True labels')\n",
    "    ax.set_title(f'Confusion Matrix for {model_name}')"
   ]
  },
  {
   "cell_type": "code",
   "execution_count": 41,
   "id": "4fff7f2e",
   "metadata": {},
   "outputs": [
    {
     "data": {
      "image/png": "[encoded data removed]",
      "text/plain": [
       "<Figure size 576x432 with 1 Axes>"
      ]
     },
     "metadata": {
      "needs_background": "light"
     },
     "output_type": "display_data"
    }
   ],
   "source": [
    "plot_confusion_matrix(y_test,y_pred,'Logistic Regression')"
   ]
  },
  {
   "cell_type": "code",
   "execution_count": 42,
   "id": "662a7283",
   "metadata": {},
   "outputs": [],
   "source": [
    "def auc_roc(model,model_name,X_test,y_test):\n",
    "    pred_prob = model.predict_proba(X_test)\n",
    "    fpr, tpr, thresh = roc_curve(y_test, pred_prob[:,1], pos_label=1)\n",
    "    plt.plot(fpr, tpr, linestyle='--',color='orange', label=model_name)\n",
    "    # title\n",
    "    plt.title('ROC curve')\n",
    "    # x label\n",
    "    plt.xlabel('False Positive Rate')\n",
    "    # y label\n",
    "    plt.ylabel('True Positive rate')\n",
    "    plt.legend(loc='best')\n",
    "    plt.show()\n",
    "    auc_score = round(roc_auc_score(y_test, pred_prob[:,1]),3)\n",
    "    return print(f'AUC score: {auc_score}')\n",
    "    "
   ]
  },
  {
   "cell_type": "code",
   "execution_count": 43,
   "id": "1f38eea3",
   "metadata": {},
   "outputs": [
    {
     "data": {
      "image/png": "[encoded data removed]",
      "text/plain": [
       "<Figure size 432x288 with 1 Axes>"
      ]
     },
     "metadata": {
      "needs_background": "light"
     },
     "output_type": "display_data"
    },
    {
     "name": "stdout",
     "output_type": "stream",
     "text": [
      "AUC score: 0.962\n"
     ]
    }
   ],
   "source": [
    "auc_roc(model,'Logistic Regression',X_test,y_test)"
   ]
  },
  {
   "cell_type": "code",
   "execution_count": null,
   "id": "fbe3e895",
   "metadata": {},
   "outputs": [],
   "source": []
  }
 ],
 "metadata": {
  "kernelspec": {
   "display_name": "Python 3",
   "language": "python",
   "name": "python3"
  },
  "language_info": {
   "codemirror_mode": {
    "name": "ipython",
    "version": 3
   },
   "file_extension": ".py",
   "mimetype": "text/x-python",
   "name": "python",
   "nbconvert_exporter": "python",
   "pygments_lexer": "ipython3",
   "version": "3.8.8"
  }
 },
 "nbformat": 4,
 "nbformat_minor": 5
}
