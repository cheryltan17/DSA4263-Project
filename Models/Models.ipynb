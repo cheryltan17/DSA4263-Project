{
 "cells": [
  {
   "cell_type": "code",
   "execution_count": 72,
   "id": "10f383b8",
   "metadata": {},
   "outputs": [],
   "source": [
    "import pandas as pd\n",
    "import numpy as np\n",
    "from sklearn.preprocessing import StandardScaler\n",
    "import matplotlib.pyplot as plt\n",
    "import seaborn as sns\n",
    "from sklearn.model_selection import train_test_split\n",
    "\n",
    "from imblearn.under_sampling import RandomUnderSampler\n",
    "from imblearn.over_sampling import RandomOverSampler\n",
    "from imblearn.over_sampling import SMOTE\n",
    "from sklearn.decomposition import PCA\n",
    "from sklearn.linear_model import LogisticRegression\n",
    "from sklearn.ensemble import RandomForestClassifier\n",
    "from sklearn.metrics import accuracy_score, classification_report, roc_curve, confusion_matrix, roc_auc_score, auc"
   ]
  },
  {
   "cell_type": "code",
   "execution_count": 73,
   "id": "668820e6",
   "metadata": {},
   "outputs": [],
   "source": [
    "df = pd.read_csv('C:/Users/cheryl/Downloads/df_for_model.csv', encoding='latin-1')"
   ]
  },
  {
   "cell_type": "code",
   "execution_count": 74,
   "id": "2371428d",
   "metadata": {},
   "outputs": [],
   "source": [
    "df1 = df"
   ]
  },
  {
   "cell_type": "code",
   "execution_count": 5,
   "id": "4f1104af",
   "metadata": {},
   "outputs": [],
   "source": [
    "embedded_cols = [\"Job Title_embed\",\"Profile_embed\",\"Department_embed\",\"Job_Description_embed\",\"Requirements_embed\",\n",
    "                \"Job_Benefits_embed\",\"Type_of_Industry_embed\",\"Operations_embed\",\"City_embed\"]\n",
    "categorical_feats = [\"Qualification_bachelor's degree\", \"Salary_Specified\", \"Type_of_Employment_unspecified\",\n",
    "                     \"Qualification_high school\", \"City_Specified\", \"Experience_entry level\",\"Qualification_master's degree\",\n",
    "                     \"Experience_unspecified\", \"Telecomunication\",\"Qualification_vocational / certification/ professional\",\n",
    "                     \"Experience_midsenior level\", \"Qualification_unspecified\", \"Type_of_Employment_fulltime\"]"
   ]
  },
  {
   "cell_type": "code",
   "execution_count": 6,
   "id": "0d5108e4",
   "metadata": {},
   "outputs": [],
   "source": [
    "def convert_to_array(s):\n",
    "    # Clean the string\n",
    "    cleaned_str = s.strip('[]').replace('\\n', ' ').replace('  ', ' ').strip()\n",
    "    # Convert the cleaned string to a NumPy array\n",
    "    return np.fromstring(cleaned_str, sep=' ')\n",
    "\n",
    "for col in embedded_cols:\n",
    "    df1[col] = df1[col].apply(convert_to_array)"
   ]
  },
  {
   "cell_type": "code",
   "execution_count": 7,
   "id": "b4370244",
   "metadata": {},
   "outputs": [],
   "source": [
    "scaler = StandardScaler()\n",
    "X_text = np.hstack([np.vstack(df1[col]) for col in embedded_cols])\n",
    "X_cat = df1[categorical_feats].values\n",
    "X_num = df1[['Range_of_Salary']]\n",
    "X = np.hstack([X_text, X_cat, X_num])\n",
    "\n",
    "X_std = scaler.fit_transform(X)\n",
    "\n",
    "pca = PCA()\n",
    "X_pca = pca.fit_transform(X_std)\n",
    "\n",
    "# Plot Explained Variance Ratio\n",
    "explained_var_ratio = pca.explained_variance_ratio_\n",
    "cumulative_var_ratio = np.cumsum(explained_var_ratio)"
   ]
  },
  {
   "cell_type": "code",
   "execution_count": null,
   "id": "278789e4",
   "metadata": {},
   "outputs": [],
   "source": [
    "plt.plot(range(1, len(cumulative_var_ratio) + 1), cumulative_var_ratio, marker='o')\n",
    "plt.xlabel('Number of Principal Components')\n",
    "plt.ylabel('Cumulative Explained Variance Ratio')\n",
    "plt.title('Explained Variance Ratio vs. Number of Principal Components')\n",
    "plt.show()"
   ]
  },
  {
   "cell_type": "code",
   "execution_count": 39,
   "id": "6a4e80f3",
   "metadata": {},
   "outputs": [
    {
     "name": "stdout",
     "output_type": "stream",
     "text": [
      "Variance explained by first 1000 components: 0.511\n"
     ]
    }
   ],
   "source": [
    "pca = PCA(n_components= 50)\n",
    "X_pca = pca.fit_transform(X_std)\n",
    "explained_variance = pca.explained_variance_ratio_\n",
    "variance_first_1000 = explained_variance.sum()\n",
    "print(f\"Variance explained by first 1000 components: {variance_first_1000:.3f}\")"
   ]
  },
  {
   "cell_type": "code",
   "execution_count": 40,
   "id": "d349bb98",
   "metadata": {},
   "outputs": [],
   "source": [
    "df2 = pd.DataFrame(X_pca)"
   ]
  },
  {
   "cell_type": "code",
   "execution_count": 57,
   "id": "48da05e7",
   "metadata": {},
   "outputs": [
    {
     "name": "stdout",
     "output_type": "stream",
     "text": [
      "(8524, 50)\n",
      "(2132, 50)\n",
      "(8524,)\n",
      "(2132,)\n"
     ]
    }
   ],
   "source": [
    "y = df1['Fraudulent']\n",
    "X_train, X_test, y_train, y_test = train_test_split(df2, y, test_size = 0.2, random_state = 4263)\n",
    "print(X_train.shape) \n",
    "print(X_test.shape)\n",
    "print(y_train.shape)\n",
    "print(y_test.shape)"
   ]
  },
  {
   "cell_type": "code",
   "execution_count": null,
   "id": "9faafc65",
   "metadata": {},
   "outputs": [],
   "source": [
    "print(\"Counts of label '1' in training data: {}\".format(sum(y_train == 1)))\n",
    "print(\"Counts of label '0' in training data: {}\".format(sum(y_train == 0)))"
   ]
  },
  {
   "cell_type": "code",
   "execution_count": 56,
   "id": "2b854e37",
   "metadata": {},
   "outputs": [],
   "source": [
    "def resampling_method(method,X_train,y_train):\n",
    "    if method == 'Undersampling':\n",
    "        rus = RandomUnderSampler(random_state=4263)\n",
    "        X_train_balanced, y_train_balanced = rus.fit_resample(X_train, y_train)\n",
    "    elif method == 'Oversampling':\n",
    "        ros = RandomOverSampler(random_state=4263)\n",
    "        X_train_balanced, y_train_balanced = ros.fit_resample(X_train, y_train)\n",
    "    else:\n",
    "        print('Invalid resampling method')\n",
    "    resampled_class_counts = pd.Series(y_train_balanced).value_counts()\n",
    "    print(\"Resampled class counts:\")\n",
    "    print(resampled_class_counts)\n",
    "    return X_train_balanced, y_train_balanced\n",
    "        "
   ]
  },
  {
   "cell_type": "code",
   "execution_count": 60,
   "id": "f7001b5f",
   "metadata": {},
   "outputs": [
    {
     "name": "stdout",
     "output_type": "stream",
     "text": [
      "Resampled class counts:\n",
      "0    7936\n",
      "1    7936\n",
      "Name: Fraudulent, dtype: int64\n"
     ]
    }
   ],
   "source": [
    "model = LogisticRegression(max_iter = 500, random_state = 4263, penalty='l1', solver='saga')\n",
    "X_train_balanced, y_train_balanced = resampling_method('Oversampling',X_train,y_train)\n",
    "model.fit(X_train_balanced, y_train_balanced)\n",
    "\n",
    "# Make predictions\n",
    "y_pred = model.predict(X_test)"
   ]
  },
  {
   "cell_type": "code",
   "execution_count": 61,
   "id": "f04ed624",
   "metadata": {},
   "outputs": [],
   "source": [
    "def evaluate_model(y_test,y_pred, model_name):\n",
    "    cm = confusion_matrix(y_test, y_pred)\n",
    "    fig, ax = plt.subplots(figsize=(8, 6))\n",
    "    sns.heatmap(cm, annot=True, cmap='Blues', fmt='d', cbar=False, ax=ax)\n",
    "    ax.set_xlabel('Predicted labels')\n",
    "    ax.set_ylabel('True labels')\n",
    "    ax.set_title(f'Confusion Matrix for {model_name}')\n",
    "    print(\"Accuracy:\", accuracy_score(y_test, y_pred))\n",
    "    print(classification_report(y_test, y_pred))\n",
    "    return cm"
   ]
  },
  {
   "cell_type": "code",
   "execution_count": 33,
   "id": "4fff7f2e",
   "metadata": {},
   "outputs": [
    {
     "name": "stdout",
     "output_type": "stream",
     "text": [
      "Accuracy: 0.9596622889305816\n",
      "              precision    recall  f1-score   support\n",
      "\n",
      "           0       0.98      0.98      0.98      1990\n",
      "           1       0.68      0.73      0.71       142\n",
      "\n",
      "    accuracy                           0.96      2132\n",
      "   macro avg       0.83      0.85      0.84      2132\n",
      "weighted avg       0.96      0.96      0.96      2132\n",
      "\n"
     ]
    },
    {
     "data": {
      "text/plain": [
       "array([[1942,   48],\n",
       "       [  38,  104]], dtype=int64)"
      ]
     },
     "execution_count": 33,
     "metadata": {},
     "output_type": "execute_result"
    },
    {
     "data": {
      "image/png": "[encoded data removed]",
      "text/plain": [
       "<Figure size 576x432 with 1 Axes>"
      ]
     },
     "metadata": {
      "needs_background": "light"
     },
     "output_type": "display_data"
    }
   ],
   "source": [
    "evaluate_model(y_test,y_pred,'Logistic Regression')"
   ]
  },
  {
   "cell_type": "code",
   "execution_count": 77,
   "id": "bb3e39c9",
   "metadata": {},
   "outputs": [],
   "source": [
    "def auc_roc(model,model_name,X_test,y_test):\n",
    "    pred_prob = model.predict_proba(X_test)\n",
    "    auc_score = round(roc_auc_score(y_test, pred_prob[:,1]),3)\n",
    "    fpr, tpr, thresh = roc_curve(y_test, pred_prob[:,1], pos_label=1)\n",
    "    plt.plot(fpr, tpr, linestyle='--',color='orange', label ='ROC curve (area = %0.3f)' % auc_score)\n",
    "    # title\n",
    "    plt.title('ROC curve')\n",
    "    # x label\n",
    "    plt.xlabel('False Positive Rate')\n",
    "    # y label\n",
    "    plt.ylabel('True Positive rate')\n",
    "    plt.legend(loc='best')\n",
    "    plt.show()\n",
    "    \n",
    "    return print(f'AUC score: {auc_score}')\n",
    "    "
   ]
  },
  {
   "cell_type": "code",
   "execution_count": 78,
   "id": "1f38eea3",
   "metadata": {},
   "outputs": [
    {
     "data": {
      "image/png": "[encoded data removed]",
      "text/plain": [
       "<Figure size 432x288 with 1 Axes>"
      ]
     },
     "metadata": {
      "needs_background": "light"
     },
     "output_type": "display_data"
    },
    {
     "name": "stdout",
     "output_type": "stream",
     "text": [
      "AUC score: 0.928\n"
     ]
    }
   ],
   "source": [
    "auc_roc(model,'Logistic Regression',X_test,y_test)"
   ]
  },
  {
   "cell_type": "code",
   "execution_count": 34,
   "id": "8aed50c6",
   "metadata": {},
   "outputs": [],
   "source": [
    "rfc = RandomForestClassifier(random_state = 4263, max_features='sqrt',n_estimators=100,max_depth = 10, n_jobs=-1)\n",
    "rfc.fit(X_train_balanced, y_train_balanced)\n",
    "y_pred = rfc.predict(X_test)"
   ]
  },
  {
   "cell_type": "code",
   "execution_count": 35,
   "id": "f6eb4e01",
   "metadata": {},
   "outputs": [
    {
     "name": "stdout",
     "output_type": "stream",
     "text": [
      "Accuracy: 0.9643527204502814\n",
      "              precision    recall  f1-score   support\n",
      "\n",
      "           0       0.96      1.00      0.98      1990\n",
      "           1       0.97      0.48      0.64       142\n",
      "\n",
      "    accuracy                           0.96      2132\n",
      "   macro avg       0.97      0.74      0.81      2132\n",
      "weighted avg       0.96      0.96      0.96      2132\n",
      "\n"
     ]
    },
    {
     "data": {
      "text/plain": [
       "array([[1988,    2],\n",
       "       [  74,   68]], dtype=int64)"
      ]
     },
     "execution_count": 35,
     "metadata": {},
     "output_type": "execute_result"
    },
    {
     "data": {
      "image/png": "[encoded data removed]",
      "text/plain": [
       "<Figure size 576x432 with 1 Axes>"
      ]
     },
     "metadata": {
      "needs_background": "light"
     },
     "output_type": "display_data"
    }
   ],
   "source": [
    "evaluate_model(y_test,y_pred,'Random Forest')"
   ]
  },
  {
   "cell_type": "code",
   "execution_count": 36,
   "id": "1708a1ff",
   "metadata": {},
   "outputs": [
    {
     "data": {
      "image/png": "[encoded data removed]",
      "text/plain": [
       "<Figure size 432x288 with 1 Axes>"
      ]
     },
     "metadata": {
      "needs_background": "light"
     },
     "output_type": "display_data"
    },
    {
     "name": "stdout",
     "output_type": "stream",
     "text": [
      "AUC score: 0.955\n"
     ]
    }
   ],
   "source": [
    "auc_roc(model,'Random Forest',X_test,y_test)"
   ]
  },
  {
   "cell_type": "code",
   "execution_count": null,
   "id": "c14a9269",
   "metadata": {},
   "outputs": [],
   "source": []
  }
 ],
 "metadata": {
  "kernelspec": {
   "display_name": "Python 3",
   "language": "python",
   "name": "python3"
  }
 },
 "nbformat": 4,
 "nbformat_minor": 5
}
